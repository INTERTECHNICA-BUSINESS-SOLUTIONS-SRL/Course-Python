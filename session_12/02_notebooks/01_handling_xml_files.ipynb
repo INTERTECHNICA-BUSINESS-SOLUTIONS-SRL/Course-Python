{
 "cells": [
  {
   "cell_type": "markdown",
   "metadata": {},
   "source": [
    "# Handling XML files\n",
    "XML is a widespread human readable information representation format and widely used in structured information storage and open format data exchange.\n",
    "Python provides support to XML file processing through various modules, the module xml being the builtin module for this purpose."
   ]
  },
  {
   "cell_type": "markdown",
   "metadata": {},
   "source": [
    "## Creating XML data\n",
    "The ElementTree module allows an object oriented representation of XML data, allowing creation of elements, subelements along with their associated properties."
   ]
  },
  {
   "cell_type": "code",
   "execution_count": 1,
   "metadata": {},
   "outputs": [],
   "source": [
    "# import the necessary modules\n",
    "import xml.etree.ElementTree as ElementTree\n",
    "import xml.dom.minidom as minidom"
   ]
  },
  {
   "cell_type": "code",
   "execution_count": 2,
   "metadata": {},
   "outputs": [],
   "source": [
    "# we would like to specify a basic robot configuration using XML data\n",
    "# the robot may have a a series of special attributes such as\n",
    "# serial number, usage purpose and so forth \n",
    "\n",
    "# creating a basic XML data tree needs to start with creation\n",
    "# of the root node\n",
    "root_node = ElementTree.Element(\n",
    "    \"robot-specification\", # the tag of the root tree\n",
    "    attrib = {  # attributes associated with the root node\n",
    "        \"version\": \"1.0\",\n",
    "        \"creation-date\" : \"01/12/2023\"\n",
    "    }\n",
    ")\n",
    "\n",
    "# add the serial number information to XML data \n",
    "serial_number_node = ElementTree.SubElement(\n",
    "    root_node,\n",
    "    \"serial-number\"\n",
    ")\n",
    "serial_number_node.text = \"09372937-3bf1-454b-857b-ecca1dbe87a0\"\n",
    "\n",
    "# add the usage information attribute information to XML data \n",
    "usage_information_element = ElementTree.SubElement(\n",
    "    root_node,\n",
    "    \"usage-information\",\n",
    "    attrib = {\n",
    "        \"restricted-usage\": \"false\",\n",
    "        \"standard-compliance\": \"high\"\n",
    "    } \n",
    ")\n",
    "\n",
    "# add multiple usage purpose child nodes\n",
    "usage_purposes = [\"manufacturing\", \"high precision operations\", \"micro mechanics\"]\n",
    "for usage_purpose in usage_purposes:\n",
    "    usage_purpose_node = ElementTree.SubElement(\n",
    "        usage_information_element,\n",
    "        \"usage-purpose\",\n",
    "    )\n",
    "    usage_purpose_node.text = usage_purpose\n",
    "    \n",
    "# add a comment node for stating other attributes to be added\n",
    "# adding this comment at the end of the root node\n",
    "comment_node = ElementTree.Comment(\"More robot specification elements to be added later\")\n",
    "root_node.append(comment_node)"
   ]
  },
  {
   "cell_type": "markdown",
   "metadata": {},
   "source": [
    "## Printing XML data\n",
    "XML data can be displayed using the functionality from the xml minidom module."
   ]
  },
  {
   "cell_type": "code",
   "execution_count": 3,
   "metadata": {},
   "outputs": [],
   "source": [
    "# define a XML data formatting function\n",
    "# for printing XML data \n",
    "def format_xml_data(element):\n",
    "    element_string = ElementTree.tostring(element, encoding = \"utf-8\", short_empty_elements = False) # generate basic XML data string\n",
    "    parsed_string  = minidom.parseString(element_string) # use minidom to parse the generated string for reformatting\n",
    "    return parsed_string.toprettyxml() # get the formatted XML data"
   ]
  },
  {
   "cell_type": "code",
   "execution_count": 4,
   "metadata": {},
   "outputs": [
    {
     "name": "stdout",
     "output_type": "stream",
     "text": [
      "<?xml version=\"1.0\" ?>\n",
      "<robot-specification version=\"1.0\" creation-date=\"01/12/2023\">\n",
      "\t<serial-number>09372937-3bf1-454b-857b-ecca1dbe87a0</serial-number>\n",
      "\t<usage-information restricted-usage=\"false\" standard-compliance=\"high\">\n",
      "\t\t<usage-purpose>manufacturing</usage-purpose>\n",
      "\t\t<usage-purpose>high precision operations</usage-purpose>\n",
      "\t\t<usage-purpose>micro mechanics</usage-purpose>\n",
      "\t</usage-information>\n",
      "\t<!--More robot specification elements to be added later-->\n",
      "</robot-specification>\n",
      "\n"
     ]
    }
   ],
   "source": [
    "# display the formatted data\n",
    "print (format_xml_data(root_node))"
   ]
  },
  {
   "cell_type": "markdown",
   "metadata": {},
   "source": [
    "## Saving and Loading XML data\n",
    "XML data, being text data, can be saved in a text document and afterwards loaded and parsed."
   ]
  },
  {
   "cell_type": "code",
   "execution_count": 5,
   "metadata": {},
   "outputs": [],
   "source": [
    "# open a text file and write the formatted XML data\n",
    "with open(\"robot_specification.xml\", \"w\") as xml_file:\n",
    "    xml_file.write(format_xml_data(root_node))"
   ]
  },
  {
   "cell_type": "code",
   "execution_count": 6,
   "metadata": {},
   "outputs": [],
   "source": [
    "# load the XML data as text from the file \n",
    "# and parse it as element tree\n",
    "xml_string = None\n",
    "with open(\"robot_specification.xml\", \"r\") as xml_file:\n",
    "    xml_string = xml_file.read(xml_string)\n",
    "\n",
    "parsed_root_element = ElementTree.fromstring(\n",
    "    # transform the string in a canonical form, removing new lines and other extraneous text\n",
    "    ElementTree.canonicalize(xml_string, strip_text= True )\n",
    ")"
   ]
  },
  {
   "cell_type": "code",
   "execution_count": 7,
   "metadata": {},
   "outputs": [
    {
     "name": "stdout",
     "output_type": "stream",
     "text": [
      "<?xml version=\"1.0\" ?>\n",
      "<robot-specification creation-date=\"01/12/2023\" version=\"1.0\">\n",
      "\t<serial-number>09372937-3bf1-454b-857b-ecca1dbe87a0</serial-number>\n",
      "\t<usage-information restricted-usage=\"false\" standard-compliance=\"high\">\n",
      "\t\t<usage-purpose>manufacturing</usage-purpose>\n",
      "\t\t<usage-purpose>high precision operations</usage-purpose>\n",
      "\t\t<usage-purpose>micro mechanics</usage-purpose>\n",
      "\t</usage-information>\n",
      "</robot-specification>\n",
      "\n"
     ]
    }
   ],
   "source": [
    "# print the loaded and parsed data\n",
    "# we can observe that the etree package\n",
    "# DOES NOT PARSE XML comments \n",
    "# this is the implementation limitation of the module\n",
    "print(format_xml_data(parsed_root_element)) "
   ]
  },
  {
   "cell_type": "markdown",
   "metadata": {},
   "source": [
    "## Accessing XML data\n",
    "XML data can be be accessed in a programmatic manner. This can be done by iteration mechanisms, direct access or querying."
   ]
  },
  {
   "cell_type": "code",
   "execution_count": 8,
   "metadata": {},
   "outputs": [
    {
     "name": "stdout",
     "output_type": "stream",
     "text": [
      "Found element with tag serial-number and text 09372937-3bf1-454b-857b-ecca1dbe87a0\n",
      "Found element with tag usage-information and text None\n"
     ]
    }
   ],
   "source": [
    "# it is possible to iterate over the immediate children\n",
    "# of an XML node\n",
    "for child_node in parsed_root_element:\n",
    "    print(\"Found element with tag {0} and text {1}\".format(child_node.tag, child_node.text))"
   ]
  },
  {
   "cell_type": "code",
   "execution_count": 9,
   "metadata": {},
   "outputs": [
    {
     "name": "stdout",
     "output_type": "stream",
     "text": [
      "Found element with tag robot-specification and text None\n",
      "Found element with tag serial-number and text 09372937-3bf1-454b-857b-ecca1dbe87a0\n",
      "Found element with tag usage-information and text None\n",
      "Found element with tag usage-purpose and text manufacturing\n",
      "Found element with tag usage-purpose and text high precision operations\n",
      "Found element with tag usage-purpose and text micro mechanics\n"
     ]
    }
   ],
   "source": [
    "# by using the iter method it is possible to \n",
    "# it is possible to iterate over the entire set of children\n",
    "# of an XML node, regardless of the depth level\n",
    "for child_node in parsed_root_element.iter():\n",
    "    print(\"Found element with tag {0} and text {1}\".format(child_node.tag, child_node.text))"
   ]
  },
  {
   "cell_type": "code",
   "execution_count": 10,
   "metadata": {},
   "outputs": [
    {
     "name": "stdout",
     "output_type": "stream",
     "text": [
      "Found element at index 0 with tag serial-number and text 09372937-3bf1-454b-857b-ecca1dbe87a0\n"
     ]
    }
   ],
   "source": [
    "# it is also possible to access directly by index the elements \n",
    "# of an XML tree\n",
    "element_index = 0\n",
    "node_at_index = parsed_root_element[element_index]\n",
    "print(\"Found element at index {0} with tag {1} and text {2}\".format(element_index, node_at_index.tag, node_at_index.text))"
   ]
  },
  {
   "cell_type": "code",
   "execution_count": 11,
   "metadata": {},
   "outputs": [
    {
     "name": "stdout",
     "output_type": "stream",
     "text": [
      "Found element with tag usage-purpose and text manufacturing\n",
      "Found element with tag usage-purpose and text high precision operations\n",
      "Found element with tag usage-purpose and text micro mechanics\n"
     ]
    }
   ],
   "source": [
    "# it is also possible to search for nodes by using \n",
    "# XML tag information or XPath expressions  \n",
    "\n",
    "# an example is retrieving all usage purpose nodes\n",
    "# using XPATH expressions\n",
    "usage_purpose_nodes = parsed_root_element.findall(\".//usage-information/*\")\n",
    "for usage_purpose_node in usage_purpose_nodes:\n",
    "    print(\"Found element with tag {0} and text {1}\".format(usage_purpose_node.tag, usage_purpose_node.text))"
   ]
  },
  {
   "cell_type": "markdown",
   "metadata": {},
   "source": [
    "## Modifying XML data\n",
    "XML data can also be modified once accessed by modifying new nodes and attributes."
   ]
  },
  {
   "cell_type": "code",
   "execution_count": 12,
   "metadata": {},
   "outputs": [],
   "source": [
    "# accessing the usage information node\n",
    "usage_information_element = parsed_root_element.find(\".//usage-information\")"
   ]
  },
  {
   "cell_type": "code",
   "execution_count": 13,
   "metadata": {},
   "outputs": [],
   "source": [
    "# remove several children of the node \n",
    "usage_information_element.remove(usage_information_element[2])\n",
    "usage_information_element.remove(usage_information_element[1])"
   ]
  },
  {
   "cell_type": "code",
   "execution_count": 14,
   "metadata": {},
   "outputs": [],
   "source": [
    "# elements can be added by index\n",
    "health_usage_purpose_element =  ElementTree.Element(\n",
    "        \"usage-purpose\"\n",
    "    )\n",
    "health_usage_purpose_element.text = \"health\"\n",
    "usage_information_element.insert(0, health_usage_purpose_element)\n",
    "\n",
    "# alternatively elements can be created as subelements at the end of existing elements list\n",
    "robotics_usage_purpose_element =  ElementTree.SubElement(\n",
    "        usage_information_element,\n",
    "        \"usage-purpose\"\n",
    "    )\n",
    "robotics_usage_purpose_element.text = \"robotics\""
   ]
  },
  {
   "cell_type": "code",
   "execution_count": 15,
   "metadata": {},
   "outputs": [],
   "source": [
    "# changing the attributes of the usage information node\n",
    "# by directly changing the value in the attrib dictionary\n",
    "usage_information_element.attrib[\"taxonomy\"] = \"simplified\""
   ]
  },
  {
   "cell_type": "code",
   "execution_count": 16,
   "metadata": {},
   "outputs": [
    {
     "name": "stdout",
     "output_type": "stream",
     "text": [
      "<?xml version=\"1.0\" ?>\n",
      "<robot-specification creation-date=\"01/12/2023\" version=\"1.0\">\n",
      "\t<serial-number>09372937-3bf1-454b-857b-ecca1dbe87a0</serial-number>\n",
      "\t<usage-information restricted-usage=\"false\" standard-compliance=\"high\" taxonomy=\"simplified\">\n",
      "\t\t<usage-purpose>health</usage-purpose>\n",
      "\t\t<usage-purpose>manufacturing</usage-purpose>\n",
      "\t\t<usage-purpose>robotics</usage-purpose>\n",
      "\t</usage-information>\n",
      "</robot-specification>\n",
      "\n"
     ]
    }
   ],
   "source": [
    "# display the modified xml data\n",
    "print(format_xml_data(parsed_root_element))"
   ]
  }
 ],
 "metadata": {
  "kernelspec": {
   "display_name": "Python 3",
   "language": "python",
   "name": "python3"
  },
  "language_info": {
   "codemirror_mode": {
    "name": "ipython",
    "version": 3
   },
   "file_extension": ".py",
   "mimetype": "text/x-python",
   "name": "python",
   "nbconvert_exporter": "python",
   "pygments_lexer": "ipython3",
   "version": "3.11.5"
  }
 },
 "nbformat": 4,
 "nbformat_minor": 2
}
