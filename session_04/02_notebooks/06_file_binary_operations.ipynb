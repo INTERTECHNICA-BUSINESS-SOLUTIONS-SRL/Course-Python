{
  "cells": [
    {
      "cell_type": "markdown",
      "metadata": {
        "id": "HoOwWSVgv-IC"
      },
      "source": [
        "# File binary operations\n",
        "\n",
        "File binary operations are essential for handling the persistence of binary data.\n",
        "Python allows the basic operations of opening and closing a binary file, along with reading and writing binary data into it."
      ]
    },
    {
      "cell_type": "markdown",
      "metadata": {
        "id": "gB_wJkrmwlDZ"
      },
      "source": [
        "## Persisting binary data\n",
        "Data can be persisted not only in text format, but also in binary format by using Python."
      ]
    },
    {
      "cell_type": "code",
      "execution_count": 1,
      "metadata": {},
      "outputs": [],
      "source": [
        "import struct\n",
        "\n",
        "# creating a complex data instance\n",
        "product_instance = {\n",
        "    \"name\": \"Personal Laptop\",\n",
        "    \"sku\": \"PX23332223\",\n",
        "    \"cost_EUR\": 1000.50,\n",
        "    \"is_available\": False\n",
        "}\n",
        "\n",
        "# creating the binary form of product data instance\n",
        "def pack_product_data(product):\n",
        "    # calculate packing parameters\n",
        "    len_name = len(product[\"name\"])\n",
        "    len_sku = len(product[\"sku\"])\n",
        "    format_string = \"q q q {0}s {1}s f ?\".format(len_name, len_sku)\n",
        "    length_data = struct.calcsize(format_string)\n",
        "\n",
        "    # pack data using the calculated format string\n",
        "    packed_data = struct.pack(\n",
        "        format_string,\n",
        "        # product header data containing various data lengths\n",
        "        length_data,\n",
        "        len_name,\n",
        "        len_sku,\n",
        "        # product effective data\n",
        "        bytearray(product[\"name\"], encoding=\"utf-8\"),\n",
        "        bytearray(product[\"sku\"], encoding=\"utf-8\"),\n",
        "        product[\"cost_EUR\"],\n",
        "        product[\"is_available\"]\n",
        "    )\n",
        "\n",
        "    return packed_data\n",
        "\n",
        "\n",
        "product_instance_packed_data = pack_product_data(product_instance)"
      ]
    },
    {
      "cell_type": "code",
      "execution_count": 2,
      "metadata": {
        "id": "vk_XRXQNw7OU"
      },
      "outputs": [],
      "source": [
        "# creating the file for writing data, it must have the 'b' flag for writing binary data.\n",
        "# it should use 'w' for overwriting content in a new file \n",
        "# and 'a' for appending content to an existing file\n",
        "data_file = open(\"product.data\", \"wb\")\n",
        "data_file.write(product_instance_packed_data)\n",
        "data_file.close()"
      ]
    },
    {
      "cell_type": "markdown",
      "metadata": {
        "id": "hXvHz2H8VmEI"
      },
      "source": [
        "## Reading binary data\n",
        "\n",
        "Data stored in binary files can be used to restore persisted objects and continue to be processed by applications."
      ]
    },
    {
      "cell_type": "code",
      "execution_count": 3,
      "metadata": {
        "id": "pmxplEeAYkfx"
      },
      "outputs": [],
      "source": [
        "# creating the file for writing data, it must have the 'b' flag for writing binary data.\n",
        "# it should use 'r' for reading content\n",
        "data_file = open(\"product.data\", \"rb\")\n",
        "product_instance_read_data = data_file.read()\n",
        "data_file.close()"
      ]
    },
    {
      "cell_type": "code",
      "execution_count": 4,
      "metadata": {},
      "outputs": [
        {
          "name": "stdout",
          "output_type": "stream",
          "text": [
            "The unpacked instance data is:\n",
            "{'name': 'Personal Laptop', 'sku': 'PX23332223', 'cost_EUR': 1000.5, 'is_available': False} .\n"
          ]
        }
      ],
      "source": [
        "# the unpack method allows to convert back data from binary format\n",
        "def unpack_product_data(byte_array):\n",
        "    # read the packing header\n",
        "    product_info_header_size = struct.calcsize(\"q q q\")\n",
        "    data_size, name_size, sku_size = struct.unpack(\"q q q\", byte_array[0:product_info_header_size])\n",
        "    \n",
        "    # calculate the product data parameters\n",
        "    format_string = \"{0}s {1}s f ?\".format(name_size, sku_size)\n",
        "    product_data_size = struct.calcsize(format_string)\n",
        "\n",
        "    # unpack data and create the product instance\n",
        "    product_byte_data = byte_array[product_info_header_size: product_info_header_size + product_data_size]\n",
        "    name, sku, cost_EUR, is_available = struct.unpack(format_string, product_byte_data)\n",
        "    product = {\n",
        "        \"name\": name.decode(\"UTF-8\"),\n",
        "        \"sku\": sku.decode(\"UTF-8\"),\n",
        "        \"cost_EUR\": cost_EUR,\n",
        "        \"is_available\": is_available\n",
        "    }\n",
        "    \n",
        "    return data_size, product\n",
        "\n",
        "data_size, product = unpack_product_data(product_instance_read_data)\n",
        "\n",
        "print(\"The unpacked instance data is:\\n{0} .\".format(product))"
      ]
    }
  ],
  "metadata": {
    "colab": {
      "provenance": []
    },
    "kernelspec": {
      "display_name": "Python 3",
      "name": "python3"
    },
    "language_info": {
      "codemirror_mode": {
        "name": "ipython",
        "version": 3
      },
      "file_extension": ".py",
      "mimetype": "text/x-python",
      "name": "python",
      "nbconvert_exporter": "python",
      "pygments_lexer": "ipython3",
      "version": "3.11.5"
    }
  },
  "nbformat": 4,
  "nbformat_minor": 0
}
