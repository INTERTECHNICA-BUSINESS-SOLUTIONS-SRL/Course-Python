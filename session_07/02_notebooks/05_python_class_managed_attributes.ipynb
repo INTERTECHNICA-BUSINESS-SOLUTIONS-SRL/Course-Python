{
  "cells": [
    {
      "cell_type": "markdown",
      "metadata": {
        "id": "HoOwWSVgv-IC"
      },
      "source": [
        "# Class managed attributes\n",
        "Python allows a controlled management of class attributes via the @property decorator.\n",
        "The decorator itself marks the function as a getter for the attribute (i.e. reads and returns that property). The function documentation associated to the getter becomes the documentation of the property.\n",
        "Considering that the property name is <property_name> we have the following decorators:\n",
        "\n",
        "* <property_name>.setter - becomes the setter of the property (i.e. sets the property values)\n",
        "* <property_name>.deleter - becomes the deleter of the property (i.e. eliminates the property)"
      ]
    },
    {
      "cell_type": "code",
      "execution_count": 1,
      "metadata": {
        "id": "vk_XRXQNw7OU"
      },
      "outputs": [],
      "source": [
        "# we will define a commercial product and use the property notation\n",
        "class CommercialProduct :\n",
        "\n",
        "  # this is a class constant, it does not need getters and setters\n",
        "  CLASS_VERSION = \"1.0.0\"\n",
        "\n",
        "  def __init__(self):\n",
        "    self._name = None\n",
        "\n",
        "  # the name of the property, defined as the property name\n",
        "  @property\n",
        "  def name(self) :\n",
        "    \"\"\" Returns the name of the commercial product\"\"\"\n",
        "    print(\"The getter method was called, returning result {0}\".format(self._name))\n",
        "    return self._name\n",
        "  \n",
        "  # setter for the property, using the name of the property\n",
        "  @name.setter\n",
        "  def name(self, value) :\n",
        "    print(\"The getter method was called with the new value {0}\".format(value))\n",
        "    self._name = value"
      ]
    },
    {
      "cell_type": "code",
      "execution_count": 2,
      "metadata": {},
      "outputs": [
        {
          "name": "stdout",
          "output_type": "stream",
          "text": [
            "The getter method was called with the new value Electrical product\n",
            "The getter method was called, returning result Electrical product\n",
            "The commercial product name was: Electrical product\n"
          ]
        }
      ],
      "source": [
        "commercial_product = CommercialProduct()\n",
        "\n",
        "commercial_product.name = \"Electrical product\"\n",
        "print(\"The commercial product name was: {0}\".format(commercial_product.name))"
      ]
    },
    {
      "cell_type": "markdown",
      "metadata": {},
      "source": [
        "## Using managed attributes for attribute validation\n",
        "Managed attributes allow validation of values for class attributes via the setter methods. Direct access to class attributes will bypass this mechanism."
      ]
    },
    {
      "cell_type": "code",
      "execution_count": 3,
      "metadata": {},
      "outputs": [],
      "source": [
        "class AccountInformation :\n",
        "    \n",
        "    def __init__(self):\n",
        "        self._id = None\n",
        "        self._balance = None\n",
        "    \n",
        "    @property    \n",
        "    def id(self) :\n",
        "        \"\"\"The id is a an alphanumeric string of 10 characters length\"\"\"\n",
        "        return self._id\n",
        "    \n",
        "    @id.setter\n",
        "    def id(self, value) :\n",
        "        if value is None:\n",
        "            print(\"Error: None value cannot be assigned to an account id.\")\n",
        "            return\n",
        "        elif type(value) != str:\n",
        "            print(\"Error: An account id must be a string.\")\n",
        "            return\n",
        "        elif len(value) != 10 :\n",
        "            print(\"Error: The account value must be a 10 characters string\")\n",
        "            return\n",
        "        elif not value.isalnum() :\n",
        "            print(\"Error: The account value must be am alphanumeric string\")\n",
        "            return\n",
        "        else:\n",
        "            self._id = value\n",
        "            \n",
        "    @property    \n",
        "    def balance(self) :\n",
        "        \"\"\"The balance is a positive float value\"\"\"\n",
        "        return self.balance\n",
        "    \n",
        "    @balance.setter\n",
        "    def balance(self, value) :\n",
        "        if value is None:\n",
        "            print(\"Error: None value cannot be assigned as a balance value.\")\n",
        "            return\n",
        "        elif type(value) == float:\n",
        "            print(\"Error: The balance value must be a float.\")\n",
        "        elif value <= 0.0:\n",
        "            print(\"Error: The balance must not be negative.\")\n",
        "        else:\n",
        "            self._value = value           "
      ]
    },
    {
      "cell_type": "code",
      "execution_count": 4,
      "metadata": {},
      "outputs": [
        {
          "name": "stdout",
          "output_type": "stream",
          "text": [
            "Error: The account value must be a 10 characters string\n",
            "Direct assignment of values bypasses managed attributes mechanism, allowing the value 'Invalid value' to be assigned as the account id.\n"
          ]
        }
      ],
      "source": [
        "account_information = AccountInformation()\n",
        "\n",
        "# assigning an invalid value\n",
        "# is protected by the managed attribute\n",
        "account_information.id = \"Invalid value\"\n",
        "\n",
        "# assigning a valid value\n",
        "# is permitted by the managed attribute\n",
        "account_information.id = \"A123456789\"\n",
        "\n",
        "# the invalid value can be assigned bypassing\n",
        "# the managed attribute mechanism\n",
        "account_information._id = \"Invalid value\"\n",
        "print(\"Direct assignment of values bypasses managed attributes mechanism, allowing the value '{0}' to be assigned as the account id.\".format(account_information.id))"
      ]
    }
  ],
  "metadata": {
    "colab": {
      "provenance": []
    },
    "kernelspec": {
      "display_name": "Python 3",
      "name": "python3"
    },
    "language_info": {
      "codemirror_mode": {
        "name": "ipython",
        "version": 3
      },
      "file_extension": ".py",
      "mimetype": "text/x-python",
      "name": "python",
      "nbconvert_exporter": "python",
      "pygments_lexer": "ipython3",
      "version": "3.11.5"
    }
  },
  "nbformat": 4,
  "nbformat_minor": 0
}
