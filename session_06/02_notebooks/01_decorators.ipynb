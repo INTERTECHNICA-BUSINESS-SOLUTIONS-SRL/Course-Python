{
  "cells": [
    {
      "cell_type": "markdown",
      "metadata": {
        "id": "HoOwWSVgv-IC"
      },
      "source": [
        "# Decorators\n",
        "\n",
        "Python allows the definition of decorators which are a powerful mechanism for dynamically modifying the behavior of other functions and classes.\n",
        "From a functional development perspective, decorators will wrap a function and be able to change its behavior."
      ]
    },
    {
      "cell_type": "code",
      "execution_count": 1,
      "metadata": {},
      "outputs": [],
      "source": [
        "# a decorator is a function which accepts another function as a parameter\n",
        "# and defines an inner function called wrapper\n",
        "# the wrapper function is the function which is actually doing the\n",
        "# function behavior change\n",
        "\n",
        "# let's define a decorator which displays a message\n",
        "# before the function is called \n",
        "# and after the function is called as well\n",
        "\n",
        "# the decorators accept a function as a parameter\n",
        "def function_call_decorator(function):\n",
        "    \n",
        "    # a wrapper inner function is defined inside the decorator\n",
        "    def wrapper():\n",
        "        print(\"Function call starts: \" + function.__name__)\n",
        "        result = function()\n",
        "        print(\"Function call end: \" + function.__name__)\n",
        "        print(\"The returned result is: {0}\".format(result))\n",
        "        return result\n",
        "\n",
        "    # the wrapper function is returned\n",
        "    return wrapper\n"
      ]
    },
    {
      "cell_type": "code",
      "execution_count": 2,
      "metadata": {},
      "outputs": [
        {
          "name": "stdout",
          "output_type": "stream",
          "text": [
            "Function call starts: function\n",
            "Function call end: function\n",
            "The returned result is: This is a generic function call\n"
          ]
        }
      ],
      "source": [
        "# a first model to call the decorator is to use\n",
        "# the chain function call\n",
        "def function():\n",
        "    return \"This is a generic function call\"\n",
        "\n",
        "decorated_function = function_call_decorator(function)\n",
        "_ = decorated_function()"
      ]
    },
    {
      "cell_type": "code",
      "execution_count": 3,
      "metadata": {},
      "outputs": [
        {
          "name": "stdout",
          "output_type": "stream",
          "text": [
            "Function call starts: function\n",
            "Function call end: function\n",
            "The returned result is: This is a generic function call\n"
          ]
        }
      ],
      "source": [
        "# another method is to use an annotation\n",
        "@function_call_decorator\n",
        "def function():\n",
        "    return \"This is a generic function call\"\n",
        "\n",
        "_ = function()"
      ]
    },
    {
      "cell_type": "markdown",
      "metadata": {},
      "source": [
        "It is also possible to use function decorators in case of functions which have parameters and these parameters are accessible to the decorator's wrapper."
      ]
    },
    {
      "cell_type": "code",
      "execution_count": 4,
      "metadata": {},
      "outputs": [],
      "source": [
        "# decorators can be be used for handling functions\n",
        "# that have parameters as well\n",
        "# these parameters are accessible via the variable parameters\n",
        "# passing mechanism\n",
        "def function_parameters_decorator(function):\n",
        "    \n",
        "    # a wrapper inner function is defined inside the decorator\n",
        "    def wrapper(*args, **kwargs):\n",
        "        print(\"Before function call: \" + function.__name__)\n",
        "        print(\"The positional parameters are:{0}\".format(args))\n",
        "        print(\"The keyword parameters are:{0}\".format(kwargs))\n",
        "        result = function(*args, **kwargs)\n",
        "        print(\"After function call, the returned result is: {0} \".format(result))\n",
        "        return result\n",
        "\n",
        "    # the wrapper function is returned\n",
        "    return wrapper"
      ]
    },
    {
      "cell_type": "code",
      "execution_count": 5,
      "metadata": {},
      "outputs": [
        {
          "name": "stdout",
          "output_type": "stream",
          "text": [
            "Before function call: generate_sum_tuple\n",
            "The positional parameters are:(1, 2, 3, 4, 5, 6)\n",
            "The keyword parameters are:{'p1': 7, 'p2': 8, 'p9': 10, 'p10': 11}\n",
            "After function call, the returned result is: (1, 2, 3, 4, 5, 6, 7, 8, 10, 11, 57) \n"
          ]
        }
      ],
      "source": [
        "# define a function which accepts a variable number of arguments \n",
        "# which can be positional or keyword based\n",
        "# calculating the sum of these arguments \n",
        "# the function will be decorated with the function_parameters_decorator\n",
        "@function_parameters_decorator\n",
        "def generate_sum_tuple(*args, **kwargs):\n",
        "    sum_value = sum(args)\n",
        "    sum_value = sum_value + sum(kwargs.values())\n",
        "    result = args + tuple(kwargs.values()) + (sum_value,)\n",
        "    return result\n",
        "\n",
        "_ = generate_sum_tuple(1, 2, 3, 4, 5, 6, p1 = 7, p2 = 8, p9 = 10, p10 = 11)"
      ]
    },
    {
      "cell_type": "markdown",
      "metadata": {},
      "source": [
        "## Example use cases\n",
        "The decorators can be widely used for managing function behavior monitoring and manipulation"
      ]
    },
    {
      "cell_type": "code",
      "execution_count": 6,
      "metadata": {},
      "outputs": [
        {
          "name": "stdout",
          "output_type": "stream",
          "text": [
            "The measured duration was 2.0004830360412598 and the actual duration was  2\n"
          ]
        }
      ],
      "source": [
        "import time\n",
        "import random\n",
        "# it is possible to define a decorator for monitoring the duration of\n",
        "# a function's running time\n",
        "\n",
        "# define the execution duration monitoring decorator\n",
        "# returning both the wait duration\n",
        "# and the function's call result\n",
        "def execution_duration_decorator(function):\n",
        "    def wrapper(*args, **kwargs):\n",
        "        start_time = time.time()\n",
        "        result = function(*args, **kwargs)\n",
        "        end_time = time.time()\n",
        "        return (end_time - start_time), result\n",
        "    \n",
        "    return wrapper\n",
        "\n",
        "# define a function that randomly waits up to 5 seconds\n",
        "# and decorate it with an execution duration decorator\n",
        "@execution_duration_decorator\n",
        "def wait_random():\n",
        "    random_wait = random.randint(1, 5)\n",
        "    time.sleep(random_wait)\n",
        "    return random_wait\n",
        "\n",
        "measured_duration, actual_duration = wait_random()\n",
        "\n",
        "print(\"The measured duration was {0} and the actual duration was  {1}\".format(measured_duration, actual_duration))"
      ]
    },
    {
      "cell_type": "code",
      "execution_count": 7,
      "metadata": {},
      "outputs": [
        {
          "name": "stdout",
          "output_type": "stream",
          "text": [
            "The generated result is: 16\n"
          ]
        }
      ],
      "source": [
        "# it is possible to define a decorator which silently drops\n",
        "# any non int argument before function's call\n",
        "def parameter_type_enforcement_int(function):\n",
        "    def wrapper(*args, **kwargs):\n",
        "        valid_args = ()\n",
        "\n",
        "        for arg in args:\n",
        "            if isinstance(arg, int):\n",
        "                valid_args = valid_args + (arg,)\n",
        "\n",
        "        valid_kwargs = {}\n",
        "        for kwarg in kwargs:\n",
        "            if isinstance(kwargs[kwarg], int):\n",
        "                valid_kwargs[kwarg] = kwargs[kwarg]\n",
        "        \n",
        "        result = function(valid_args, valid_kwargs) \n",
        "        return result       \n",
        "    \n",
        "    return wrapper\n",
        "\n",
        "@parameter_type_enforcement_int\n",
        "def valid_sum(args, kwargs):\n",
        "    sum_value = sum(args)\n",
        "    sum_value = sum_value + sum(kwargs.values())\n",
        "    \n",
        "    return sum_value \n",
        "\n",
        "# the function will be called with only the int values filtered\n",
        "result = valid_sum(1, 2, 3, None, \"This is a string\", p1 = 10, p2 = [1,2,3])\n",
        "print(\"The generated result is: {0}\".format(result))"
      ]
    }
  ],
  "metadata": {
    "colab": {
      "provenance": []
    },
    "kernelspec": {
      "display_name": "Python 3",
      "name": "python3"
    },
    "language_info": {
      "codemirror_mode": {
        "name": "ipython",
        "version": 3
      },
      "file_extension": ".py",
      "mimetype": "text/x-python",
      "name": "python",
      "nbconvert_exporter": "python",
      "pygments_lexer": "ipython3",
      "version": "3.11.5"
    }
  },
  "nbformat": 4,
  "nbformat_minor": 0
}
