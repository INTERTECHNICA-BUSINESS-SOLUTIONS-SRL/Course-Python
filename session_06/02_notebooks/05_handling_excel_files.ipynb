{
  "cells": [
    {
      "cell_type": "markdown",
      "metadata": {
        "id": "HoOwWSVgv-IC"
      },
      "source": [
        "# Handling Excel files\n",
        "\n",
        "Excel files are a very common method for storing and manipulating data. Python has an extensive support for Excel files through the openpyxl module.\n",
        "This module allows creation of worksheets along with storage, manipulation and reading of data."
      ]
    },
    {
      "cell_type": "markdown",
      "metadata": {
        "id": "rPAOGBiEGRmx"
      },
      "source": [
        "## Creating Excel files\n",
        "The openpyxl module allows the creation of Excel files, manipulation of workbooks and saving the data."
      ]
    },
    {
      "cell_type": "code",
      "execution_count": 8,
      "metadata": {
        "colab": {
          "base_uri": "https://localhost:8080/"
        },
        "id": "vk_XRXQNw7OU",
        "outputId": "9a28bcdb-1972-4e40-ba78-77c577a978e5"
      },
      "outputs": [
        {
          "name": "stderr",
          "output_type": "stream",
          "text": [
            "\n",
            "[notice] A new release of pip is available: 23.2.1 -> 23.3.1\n",
            "[notice] To update, run: python.exe -m pip install --upgrade pip\n"
          ]
        }
      ],
      "source": [
        "# install openpyxl module if not already\n",
        "! pip --quiet install openpyxl\n",
        "\n",
        "# import the openpyxl module\n",
        "import openpyxl as excel"
      ]
    },
    {
      "cell_type": "code",
      "execution_count": 9,
      "metadata": {},
      "outputs": [],
      "source": [
        "# creating excel workbooks and worksheets\n",
        "work_book = excel.Workbook()\n",
        "\n",
        "# remove the active sheet\n",
        "work_book.remove(work_book.active)\n",
        "\n",
        "# create additional data sheets\n",
        "work_book.create_sheet(\"Initial Information\")\n",
        "work_book.create_sheet(\"Calculated Data\")\n",
        "\n",
        "# finally the workbook can be saved and closed\n",
        "work_book.save(\"data.xlsx\") \n",
        "work_book.close()"
      ]
    },
    {
      "cell_type": "markdown",
      "metadata": {},
      "source": [
        "## Adding data to Excel files\n",
        "It is also possible to write data in workbooks at various columns and cells."
      ]
    },
    {
      "cell_type": "code",
      "execution_count": 10,
      "metadata": {},
      "outputs": [
        {
          "name": "stdout",
          "output_type": "stream",
          "text": [
            "The sheets in workbook are: ['Initial Information', 'Calculated Data']\n"
          ]
        }
      ],
      "source": [
        "# let's reopen the saved notebook\n",
        "work_book = excel.open(\"data.xlsx\")\n",
        "\n",
        "# let's display the existing data sheets\n",
        "print(\"The sheets in workbook are: {0}\".format(work_book.sheetnames))"
      ]
    },
    {
      "cell_type": "code",
      "execution_count": 11,
      "metadata": {},
      "outputs": [],
      "source": [
        "import datetime\n",
        "import random\n",
        "\n",
        "# let's generate some data and write it into the worksheet\n",
        "# we will simulate a failure log for a robot and write it into excel\n",
        "FAILURE_MODE = [\"Loader\", \"Engine\", \"Control\"]\n",
        "START_FAILURE_DATE = cdt_custom = datetime.datetime.strptime(\"01-01-2023\", \"%d-%m-%Y\")\n",
        "failure_data = []\n",
        "\n",
        "for index in range(0,100):\n",
        "        \n",
        "    failure_date = None\n",
        "    if (index == 0):\n",
        "        failure_date = START_FAILURE_DATE\n",
        "    else: \n",
        "        failure_date = failure_data[-1][\"failure_end_date\"]\n",
        "\n",
        "    failure_end_date = failure_date + datetime.timedelta(random.randint(2,10))\n",
        "    \n",
        "    failure_mode = FAILURE_MODE[random.randint(0,2)]\n",
        "    \n",
        "    failure_record = {\n",
        "        \"failure_date\": failure_date,\n",
        "        \"failure_end_date\": failure_end_date,\n",
        "        \"failure_mode\": failure_mode\n",
        "    }\n",
        "    \n",
        "    failure_data.append(failure_record)        "
      ]
    },
    {
      "cell_type": "code",
      "execution_count": 12,
      "metadata": {},
      "outputs": [],
      "source": [
        "# it is possible to access a sheet by its name\n",
        "work_sheet = work_book[\"Initial Information\"]\n",
        "\n",
        "# write data header\n",
        "work_sheet.cell(1, 1, \"Failure Date\").font = excel.styles.Font(bold = True)\n",
        "work_sheet.cell(1, 2, \"Failure End Date\").font = excel.styles.Font(bold = True)\n",
        "work_sheet.cell(1, 3, \"Failure Mode\").font = excel.styles.Font(bold = True)\n",
        "\n",
        "# let's write the data at each cell\n",
        "for i in range(0, len(failure_data)) :\n",
        "    work_sheet.cell(i + 2, 1, failure_data[i][\"failure_date\"])\n",
        "    work_sheet.cell(i + 2, 2, failure_data[i][\"failure_end_date\"])\n",
        "    work_sheet.cell(i + 2, 3, failure_data[i][\"failure_mode\"])\n",
        "\n",
        "# save and close workbook\n",
        "work_book.save(\"data.xlsx\") \n",
        "work_book.close()"
      ]
    },
    {
      "cell_type": "code",
      "execution_count": 13,
      "metadata": {},
      "outputs": [],
      "source": [
        "# let's reopen the workbook and change data\n",
        "# we will store days until repair\n",
        "work_book = excel.open(\"data.xlsx\")\n",
        "\n",
        "# select the appropriate worksheet\n",
        "initial_information_sheet = work_book[\"Initial Information\"]\n",
        "initial_information_sheet.cell(1 , 4, \"Days Until Repair\").font = excel.styles.Font(bold = True)\n",
        "current_index = 0\n",
        "\n",
        "while(True):\n",
        "    # read appropriate cells\n",
        "    failure_date_cell = initial_information_sheet.cell(current_index + 2, 1)\n",
        "    failure_end_date_cell = initial_information_sheet.cell(current_index + 2, 2)\n",
        "    \n",
        "    if not isinstance(failure_date_cell.value, datetime.datetime):\n",
        "        break\n",
        "    \n",
        "    # calculate new date\n",
        "    days_until_repair = (failure_end_date_cell.value - failure_date_cell.value).days\n",
        "    initial_information_sheet.cell(current_index + 2, 4, days_until_repair)\n",
        "    \n",
        "    current_index = current_index + 1 \n",
        "\n",
        "# force worksheet autofit and best fit\n",
        "for i in range(1, 5):\n",
        "    column_letter = excel.utils.get_column_letter(i)\n",
        "    initial_information_sheet.column_dimensions[column_letter].bestFit = True\n",
        "    initial_information_sheet.column_dimensions[column_letter].auto_size = True\n",
        "    \n",
        "\n",
        "# save and close workbook\n",
        "work_book.save(\"data.xlsx\") \n",
        "work_book.close()"
      ]
    },
    {
      "cell_type": "code",
      "execution_count": 14,
      "metadata": {},
      "outputs": [],
      "source": [
        "# let's reopen the workbook and use formulas\n",
        "# for calculating min, max and average days until repair\n",
        "work_book = excel.open(\"data.xlsx\")\n",
        "calculated_data_sheet = work_book[\"Calculated Data\"]\n",
        "\n",
        "# write data labels\n",
        "calculated_data_sheet.cell(1, 1, \"Minimum Days Until Repair\").font = excel.styles.Font(bold = True)\n",
        "calculated_data_sheet.cell(2, 1, \"Average Days Until Repair\").font = excel.styles.Font(bold = True)\n",
        "calculated_data_sheet.cell(3, 1, \"Maximum Days Until Repair\").font = excel.styles.Font(bold = True)\n",
        "\n",
        "calculated_data_sheet.cell(1, 2, \"=MIN('Initial Information'!D2:D101)\")\n",
        "calculated_data_sheet.cell(2, 2, \"=AVERAGE('Initial Information'!D2:D101)\")\n",
        "calculated_data_sheet.cell(3, 2, \"=MAX('Initial Information'!D2:D101)\")\n",
        "\n",
        "for i in range(1, 2):\n",
        "    column_letter = excel.utils.get_column_letter(i)\n",
        "    calculated_data_sheet.column_dimensions[column_letter].bestFit = True\n",
        "    calculated_data_sheet.column_dimensions[column_letter].auto_size = True\n",
        "\n",
        "# save and close workbook\n",
        "work_book.save(\"data.xlsx\") \n",
        "work_book.close()"
      ]
    }
  ],
  "metadata": {
    "colab": {
      "provenance": []
    },
    "kernelspec": {
      "display_name": "Python 3",
      "name": "python3"
    },
    "language_info": {
      "codemirror_mode": {
        "name": "ipython",
        "version": 3
      },
      "file_extension": ".py",
      "mimetype": "text/x-python",
      "name": "python",
      "nbconvert_exporter": "python",
      "pygments_lexer": "ipython3",
      "version": "3.11.5"
    }
  },
  "nbformat": 4,
  "nbformat_minor": 0
}
