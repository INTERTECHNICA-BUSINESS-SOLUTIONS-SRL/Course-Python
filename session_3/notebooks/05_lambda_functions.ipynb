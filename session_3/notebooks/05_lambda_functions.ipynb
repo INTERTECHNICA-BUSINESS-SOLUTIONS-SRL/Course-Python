{
  "cells": [
    {
      "cell_type": "markdown",
      "metadata": {
        "id": "HoOwWSVgv-IC"
      },
      "source": [
        "# Lambda functions\n",
        "\n",
        "Let's explore how Python allows a simpler mechanism for function definitions through lambda functions."
      ]
    },
    {
      "cell_type": "markdown",
      "metadata": {
        "id": "gB_wJkrmwlDZ"
      },
      "source": [
        "## Defining lambda functions\n",
        "Lambda functions are defined through the **lambda** keyword and they do not have a return statement. The value returned by the lambda function is basically the expression evaluated inside the body of the function.\n",
        "The lambda statement accepts any numbers of arguments and it returns basically a function that can be assigned to a variable so that it can be called later."
      ]
    },
    {
      "cell_type": "code",
      "execution_count": 8,
      "metadata": {
        "colab": {
          "base_uri": "https://localhost:8080/"
        },
        "id": "vk_XRXQNw7OU",
        "outputId": "7c251d37-11ee-493a-9916-09beb3be6bf4"
      },
      "outputs": [
        {
          "name": "stdout",
          "output_type": "stream",
          "text": [
            "The square_function_lambda result for argument 2  is  4\n"
          ]
        }
      ],
      "source": [
        "# defining a square function through lambda expressions\n",
        "# lambda statement is used and its evaluated value will be assigned \n",
        "# to a variable for further usage\n",
        "square_function_lambda = lambda x: x ** 2\n",
        "a = 2\n",
        "print(\"The square_function_lambda result for argument\", a, \" is \", square_function_lambda(a))\n",
        "\n",
        "# the standard definition of a similar function requires a more verbose code\n",
        "def square_function(x):\n",
        "  return x ** 2"
      ]
    },
    {
      "cell_type": "code",
      "execution_count": 9,
      "metadata": {},
      "outputs": [
        {
          "name": "stdout",
          "output_type": "stream",
          "text": [
            "The value of  2  at power of  3  is  8\n"
          ]
        }
      ],
      "source": [
        "# lambda functions do not need to be assigned to a variable\n",
        "# they can be evaluated in place\n",
        "\n",
        "a = 2\n",
        "b = 3\n",
        "\n",
        "print(\"The value of \", a, \" at power of \", b, \" is \", (lambda x, y: x ** y)(a,b))"
      ]
    },
    {
      "cell_type": "code",
      "execution_count": 16,
      "metadata": {},
      "outputs": [
        {
          "name": "stdout",
          "output_type": "stream",
          "text": [
            "The value of  10  at power of  0  is  1\n",
            "The value of  10  at power of  1  is  10\n",
            "The value of  10  at power of  2  is  100\n",
            "The value of  10  at power of  3  is  1000\n",
            "The value of  10  at power of  4  is  10000\n"
          ]
        }
      ],
      "source": [
        "# lambda functions can be used for creating functions with\n",
        "# parametric behavior\n",
        "\n",
        "def generate_power_at_function(n):\n",
        "    # the lambda function creates a function used to calculate a value to the power n\n",
        "    # where n is a configurable value\n",
        "    return lambda x : x ** n\n",
        "\n",
        "# let's use this function generator\n",
        "x = 10\n",
        "for power in range(0, 5):\n",
        "    power_func = generate_power_at_function(power)\n",
        "    print(\"The value of \", x, \" at power of \", power, \" is \", power_func(x))\n"
      ]
    }
  ],
  "metadata": {
    "colab": {
      "provenance": []
    },
    "kernelspec": {
      "display_name": "Python 3",
      "name": "python3"
    },
    "language_info": {
      "codemirror_mode": {
        "name": "ipython",
        "version": 3
      },
      "file_extension": ".py",
      "mimetype": "text/x-python",
      "name": "python",
      "nbconvert_exporter": "python",
      "pygments_lexer": "ipython3",
      "version": "3.11.5"
    }
  },
  "nbformat": 4,
  "nbformat_minor": 0
}
