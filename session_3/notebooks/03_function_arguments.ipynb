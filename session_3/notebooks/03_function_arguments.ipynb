{
  "cells": [
    {
      "cell_type": "markdown",
      "metadata": {
        "id": "HoOwWSVgv-IC"
      },
      "source": [
        "# Function arguments\n",
        "\n",
        "Let's explore how function arguments (actual values for function parameters passed during function calls) are used in Python."
      ]
    },
    {
      "cell_type": "markdown",
      "metadata": {
        "id": "gB_wJkrmwlDZ"
      },
      "source": [
        "## Positional arguments\n",
        "Positional arguments are mapped to function parameters by using the parameters positions established during function definition."
      ]
    },
    {
      "cell_type": "code",
      "execution_count": 1,
      "metadata": {
        "colab": {
          "base_uri": "https://localhost:8080/"
        },
        "id": "vk_XRXQNw7OU",
        "outputId": "7c251d37-11ee-493a-9916-09beb3be6bf4"
      },
      "outputs": [
        {
          "name": "stdout",
          "output_type": "stream",
          "text": [
            "Name: Dan Age: 37 Location: Washington\n",
            "Name: 37 Age: Washington Location: Dan\n"
          ]
        }
      ],
      "source": [
        "# define a function and call it using positional parameters\n",
        "def print_person_information(name, age, location) :\n",
        "  print(\"Name:\", name, \"Age:\", age, \"Location:\", location)\n",
        "\n",
        "# a correct usage of the function, arguments have been mapped\n",
        "# to the orders expressed by the function parameters\n",
        "print_person_information(\"Dan\", 37, \"Washington\")\n",
        "\n",
        "\n",
        "# an incorrect usage of the function, arguments are mapped\n",
        "# not in the intended order\n",
        "print_person_information(37, \"Washington\", \"Dan\")"
      ]
    },
    {
      "cell_type": "markdown",
      "metadata": {
        "id": "Se8xCscAICSC"
      },
      "source": [
        "## Keyword arguments\n",
        "Keyword arguments are allowing to specify values for parameters by name. The order in which keywords arguments are passed is irrelevant, yet they need to follow the positional arguments."
      ]
    },
    {
      "cell_type": "code",
      "execution_count": 2,
      "metadata": {
        "colab": {
          "base_uri": "https://localhost:8080/"
        },
        "id": "X9-FZvIEIPz7",
        "outputId": "ce6a64e0-2d06-4fcd-eec0-c43cfd5bb98c"
      },
      "outputs": [
        {
          "name": "stdout",
          "output_type": "stream",
          "text": [
            "Name: Dan Age: 37 Location: Washington\n",
            "Name: Dan Age: 37 Location: Washington\n"
          ]
        }
      ],
      "source": [
        "# define a function and call it using keyword parameters\n",
        "def print_person_information(name, age, location) :\n",
        "  print(\"Name:\", name, \"Age:\", age, \"Location:\", location)\n",
        "\n",
        "# correct results are generated even if we pass keyword arguments\n",
        "# in an arbitrary order\n",
        "print_person_information(age = 37, location = \"Washington\", name = \"Dan\")\n",
        "\n",
        "# keyword arguments may be mixed with positional arguments\n",
        "# however positional arguments may be used first\n",
        "print_person_information(\"Dan\", location = \"Washington\", age = 37)"
      ]
    },
    {
      "cell_type": "markdown",
      "metadata": {
        "id": "aSANa7uzaZqc"
      },
      "source": [
        "## Default arguments\n",
        "Default arguments represent default values that are passed during function call for function parameters. These default values are specified during function definition."
      ]
    },
    {
      "cell_type": "code",
      "execution_count": 3,
      "metadata": {
        "colab": {
          "base_uri": "https://localhost:8080/"
        },
        "id": "MbeQpgDybMaR",
        "outputId": "239b9a74-2e90-437e-a94d-4a97f175e171"
      },
      "outputs": [
        {
          "name": "stdout",
          "output_type": "stream",
          "text": [
            "100 EUR\n",
            "(100) USD\n"
          ]
        }
      ],
      "source": [
        "# define a function with default parameter values\n",
        "def print_currency_value(value, currency_symbol = \"USD\") :\n",
        "  print_value = str(value)\n",
        "  if value < 0 :\n",
        "    print_value = str(-value)\n",
        "    print_value = \"(\" + print_value + \")\"\n",
        "  print_value = print_value + \" \" + currency_symbol\n",
        "  print(print_value)\n",
        "\n",
        "# specify all function arguments for function call\n",
        "print_currency_value(100, \"EUR\")\n",
        "\n",
        "# use default arguments for function call\n",
        "print_currency_value(-100)"
      ]
    },
    {
      "cell_type": "markdown",
      "metadata": {},
      "source": [
        "## Forcing argument types\n",
        "Python allows forcing the argument type either by specifying them only positional or only keyword based.\n",
        "If the special slash **/** argument is passed as a parameter in the function definition, any parameters before the slash argument must be specified only in a positional manner.\n",
        "If the special asterisk **\\*** argument is passed as a parameter in the function definition, any parameters before the slash argument must be specified only in a keyword manner."
      ]
    },
    {
      "cell_type": "code",
      "execution_count": 4,
      "metadata": {},
      "outputs": [],
      "source": [
        "# defining a function where the first two parameters can only be used in a positional manner\n",
        "# the next two can be used either positional or keyword\n",
        "# and the last tow can be used keyword only\n",
        "def sample_function(positional_only_1, positional_only_2, /, standard_1, standard_2, *, keyword_only_1, keyword_only_2):\n",
        "    print(\n",
        "        \"Parameters values are positional_only_1: {0}, positional_only_2: {1}, standard_1: {2}, standard_2: {3}, *, keyword_only_1: {4}, keyword_only_2: {5}\".format(\n",
        "            positional_only_1, positional_only_2, standard_1, standard_2, keyword_only_1, keyword_only_2\n",
        "        )\n",
        "    )\n",
        "    return"
      ]
    },
    {
      "cell_type": "code",
      "execution_count": 5,
      "metadata": {},
      "outputs": [
        {
          "name": "stdout",
          "output_type": "stream",
          "text": [
            "Parameters values are positional_only_1: 0, positional_only_2: 1, standard_1: 2, standard_2: 3, *, keyword_only_1: 4, keyword_only_2: 5\n",
            "Parameters values are positional_only_1: 0, positional_only_2: 1, standard_1: 2, standard_2: 3, *, keyword_only_1: 4, keyword_only_2: 5\n"
          ]
        }
      ],
      "source": [
        "# the following calls are accepted since they adhere to the arguments\n",
        "# type enforcement\n",
        "\n",
        "sample_function(0, 1, standard_1 = 2, standard_2 = 3, keyword_only_1 = 4, keyword_only_2 = 5)\n",
        "sample_function(0, 1, 2, 3, keyword_only_1 = 4, keyword_only_2 = 5)"
      ]
    },
    {
      "cell_type": "code",
      "execution_count": 9,
      "metadata": {},
      "outputs": [
        {
          "ename": "TypeError",
          "evalue": "sample_function() got some positional-only arguments passed as keyword arguments: 'positional_only_1, positional_only_2'",
          "output_type": "error",
          "traceback": [
            "\u001b[1;31m---------------------------------------------------------------------------\u001b[0m",
            "\u001b[1;31mTypeError\u001b[0m                                 Traceback (most recent call last)",
            "\u001b[1;32md:\\Projects\\courses\\UTCN_Python_Course\\Python-Course-UTCN\\session_3\\notebooks\\03_function_arguments.ipynb Cell 11\u001b[0m line \u001b[0;36m4\n\u001b[0;32m      <a href='vscode-notebook-cell:/d%3A/Projects/courses/UTCN_Python_Course/Python-Course-UTCN/session_3/notebooks/03_function_arguments.ipynb#X14sZmlsZQ%3D%3D?line=0'>1</a>\u001b[0m \u001b[39m# the following call is not accepted since it does not adhere to the positional only\u001b[39;00m\n\u001b[0;32m      <a href='vscode-notebook-cell:/d%3A/Projects/courses/UTCN_Python_Course/Python-Course-UTCN/session_3/notebooks/03_function_arguments.ipynb#X14sZmlsZQ%3D%3D?line=1'>2</a>\u001b[0m \u001b[39m# passing mechanism enforcement\u001b[39;00m\n\u001b[1;32m----> <a href='vscode-notebook-cell:/d%3A/Projects/courses/UTCN_Python_Course/Python-Course-UTCN/session_3/notebooks/03_function_arguments.ipynb#X14sZmlsZQ%3D%3D?line=3'>4</a>\u001b[0m sample_function(positional_only_1 \u001b[39m=\u001b[39;49m \u001b[39m0\u001b[39;49m, positional_only_2 \u001b[39m=\u001b[39;49m  \u001b[39m1\u001b[39;49m, standard_1 \u001b[39m=\u001b[39;49m \u001b[39m2\u001b[39;49m, standard_2 \u001b[39m=\u001b[39;49m \u001b[39m3\u001b[39;49m, keyword_only_1 \u001b[39m=\u001b[39;49m \u001b[39m4\u001b[39;49m, keyword_only_2 \u001b[39m=\u001b[39;49m \u001b[39m5\u001b[39;49m)\n",
            "\u001b[1;31mTypeError\u001b[0m: sample_function() got some positional-only arguments passed as keyword arguments: 'positional_only_1, positional_only_2'"
          ]
        }
      ],
      "source": [
        "# the following call is not accepted since it does not adhere to the positional only\n",
        "# arguments type enforcement\n",
        "\n",
        "sample_function(positional_only_1 = 0, positional_only_2 =  1, standard_1 = 2, standard_2 = 3, keyword_only_1 = 4, keyword_only_2 = 5)"
      ]
    },
    {
      "cell_type": "code",
      "execution_count": 8,
      "metadata": {},
      "outputs": [
        {
          "ename": "TypeError",
          "evalue": "sample_function() takes 4 positional arguments but 6 were given",
          "output_type": "error",
          "traceback": [
            "\u001b[1;31m---------------------------------------------------------------------------\u001b[0m",
            "\u001b[1;31mTypeError\u001b[0m                                 Traceback (most recent call last)",
            "\u001b[1;32md:\\Projects\\courses\\UTCN_Python_Course\\Python-Course-UTCN\\session_3\\notebooks\\03_function_arguments.ipynb Cell 12\u001b[0m line \u001b[0;36m5\n\u001b[0;32m      <a href='vscode-notebook-cell:/d%3A/Projects/courses/UTCN_Python_Course/Python-Course-UTCN/session_3/notebooks/03_function_arguments.ipynb#X15sZmlsZQ%3D%3D?line=0'>1</a>\u001b[0m \u001b[39m# the following call is not accepted since it does not adhere to the keyword only\u001b[39;00m\n\u001b[0;32m      <a href='vscode-notebook-cell:/d%3A/Projects/courses/UTCN_Python_Course/Python-Course-UTCN/session_3/notebooks/03_function_arguments.ipynb#X15sZmlsZQ%3D%3D?line=1'>2</a>\u001b[0m \u001b[39m# passing mechanism enforcement\u001b[39;00m\n\u001b[0;32m      <a href='vscode-notebook-cell:/d%3A/Projects/courses/UTCN_Python_Course/Python-Course-UTCN/session_3/notebooks/03_function_arguments.ipynb#X15sZmlsZQ%3D%3D?line=2'>3</a>\u001b[0m \u001b[39m# (uncomment the code to test the enforcement)\u001b[39;00m\n\u001b[1;32m----> <a href='vscode-notebook-cell:/d%3A/Projects/courses/UTCN_Python_Course/Python-Course-UTCN/session_3/notebooks/03_function_arguments.ipynb#X15sZmlsZQ%3D%3D?line=4'>5</a>\u001b[0m sample_function(\u001b[39m0\u001b[39;49m, \u001b[39m1\u001b[39;49m, \u001b[39m2\u001b[39;49m, \u001b[39m3\u001b[39;49m, \u001b[39m4\u001b[39;49m, \u001b[39m5\u001b[39;49m)\n",
            "\u001b[1;31mTypeError\u001b[0m: sample_function() takes 4 positional arguments but 6 were given"
          ]
        }
      ],
      "source": [
        "# the following call is not accepted since it does not adhere to the keyword only\n",
        "# arguments type enforcement\n",
        "\n",
        "sample_function(0, 1, 2, 3, 4, 5)"
      ]
    }
  ],
  "metadata": {
    "colab": {
      "provenance": []
    },
    "kernelspec": {
      "display_name": "Python 3",
      "name": "python3"
    },
    "language_info": {
      "codemirror_mode": {
        "name": "ipython",
        "version": 3
      },
      "file_extension": ".py",
      "mimetype": "text/x-python",
      "name": "python",
      "nbconvert_exporter": "python",
      "pygments_lexer": "ipython3",
      "version": "3.11.5"
    }
  },
  "nbformat": 4,
  "nbformat_minor": 0
}
