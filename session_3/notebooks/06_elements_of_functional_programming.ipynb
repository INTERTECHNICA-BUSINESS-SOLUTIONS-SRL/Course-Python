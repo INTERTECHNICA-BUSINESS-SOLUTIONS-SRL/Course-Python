{
  "cells": [
    {
      "cell_type": "markdown",
      "metadata": {
        "id": "HoOwWSVgv-IC"
      },
      "source": [
        "# Elements of functional programming\n",
        "\n",
        "Python offers a good support for functional programming via several build in high order functions (functions that take as parameters other functions)."
      ]
    },
    {
      "cell_type": "markdown",
      "metadata": {
        "id": "gB_wJkrmwlDZ"
      },
      "source": [
        "## The map function\n",
        "This function applies another function received as parameter over all the elements in a collection and return a new collection with the results."
      ]
    },
    {
      "cell_type": "code",
      "execution_count": 11,
      "metadata": {
        "colab": {
          "base_uri": "https://localhost:8080/"
        },
        "id": "vk_XRXQNw7OU",
        "outputId": "7c251d37-11ee-493a-9916-09beb3be6bf4"
      },
      "outputs": [
        {
          "name": "stdout",
          "output_type": "stream",
          "text": [
            "The generates square roots collection is:  [0.0, 1.0, 1.4142135623730951, 1.7320508075688772, 2.0, 2.23606797749979, 2.449489742783178, 2.6457513110645907, 2.8284271247461903, 3.0]\n"
          ]
        }
      ],
      "source": [
        "# defining the collection\n",
        "standard_collection = list(range(0, 10))\n",
        "\n",
        "# generating a new collection by using the map function\n",
        "# we will generate a collection from all square root elements\n",
        "# from the input collection\n",
        "square_roots_collection = list (\n",
        "  map(\n",
        "    lambda x: x ** 0.5, \n",
        "    standard_collection)\n",
        ")\n",
        "\n",
        "print(\"The generates square roots collection is: \", square_roots_collection)"
      ]
    },
    {
      "cell_type": "markdown",
      "metadata": {},
      "source": [
        "## The filter function\n",
        "The filter function is used to select specific elements from a collection as long as they fulfill a certain condition."
      ]
    },
    {
      "cell_type": "code",
      "execution_count": 16,
      "metadata": {},
      "outputs": [
        {
          "name": "stdout",
          "output_type": "stream",
          "text": [
            "The integers only collection is:  [0.0, 1.0, 2.0, 3.0]\n"
          ]
        }
      ],
      "source": [
        "# the filter function can be used to select the elements\n",
        "# from the square roots collections which are integers\n",
        "integer_values_ony_collection = list(\n",
        "    filter(\n",
        "        lambda x: int(x) == x,\n",
        "        square_roots_collection\n",
        "    )\n",
        ")\n",
        "\n",
        "print(\"The integers only collection is: \", integer_values_ony_collection)"
      ]
    },
    {
      "cell_type": "markdown",
      "metadata": {},
      "source": [
        "## The zip function\n",
        "The zip function aggregates elements from multiple collection into a single tuple collection."
      ]
    },
    {
      "cell_type": "code",
      "execution_count": 31,
      "metadata": {},
      "outputs": [
        {
          "name": "stdout",
          "output_type": "stream",
          "text": [
            "The combined collection is:  [(0, 0), (1, 1), (2, 4), (3, 9), (4, 16), (5, 25), (6, 36), (7, 49), (8, 64), (9, 81)]\n"
          ]
        }
      ],
      "source": [
        "# generate a collection of numbers \n",
        "# and their squared values\n",
        "values_collections = list(range(0,10))\n",
        "squared_values_collections = list(\n",
        "    map(\n",
        "        lambda x : x * x,\n",
        "        values_collections\n",
        "    )\n",
        ")\n",
        "\n",
        "# it is possible to create a single collection of tuples\n",
        "# from the input collections\n",
        "combined_collections = list(zip(values_collections, squared_values_collections))\n",
        "print (\"The combined collection is: \", combined_collections)"
      ]
    },
    {
      "cell_type": "markdown",
      "metadata": {},
      "source": [
        "## The enumerate function\n",
        "The enumerate function iterates over a collection returning a tuple list, the first element being the index value \n",
        "at the iteration and the second being the value at that specific iteration."
      ]
    },
    {
      "cell_type": "code",
      "execution_count": 41,
      "metadata": {},
      "outputs": [
        {
          "name": "stdout",
          "output_type": "stream",
          "text": [
            "The iteration list is:  [(0, 'Kendra Sanders'), (1, 'John Villegas'), (2, 'Roberta Lozano'), (3, 'Maddie Medina'), (4, 'Scarlet Hamilton'), (5, 'Ali Leon'), (6, 'Sofia Olson'), (7, 'Nicolas Webb'), (8, 'Katelyn Santos'), (9, 'Sian Joyce')]\n",
            "The value at index  0  is  Kendra Sanders\n",
            "The value at index  1  is  John Villegas\n",
            "The value at index  2  is  Roberta Lozano\n",
            "The value at index  3  is  Maddie Medina\n",
            "The value at index  4  is  Scarlet Hamilton\n",
            "The value at index  5  is  Ali Leon\n",
            "The value at index  6  is  Sofia Olson\n",
            "The value at index  7  is  Nicolas Webb\n",
            "The value at index  8  is  Katelyn Santos\n",
            "The value at index  9  is  Sian Joyce\n"
          ]
        }
      ],
      "source": [
        "# a random names list will be used for the iteration \n",
        "random_names_list = [\n",
        "    \"Kendra Sanders\",\n",
        "    \"John Villegas\",\n",
        "    \"Roberta Lozano\",\n",
        "    \"Maddie Medina\",\n",
        "    \"Scarlet Hamilton\",\n",
        "    \"Ali Leon\",\n",
        "    \"Sofia Olson\",\n",
        "    \"Nicolas Webb\",\n",
        "    \"Katelyn Santos\",\n",
        "    \"Sian Joyce\",\n",
        "]\n",
        "\n",
        "# the enumerate function will traverse the list\n",
        "# and create another list of (index, value) tuples\n",
        "iteration_list = list(enumerate (\n",
        "    random_names_list\n",
        "))\n",
        "print(\"The iteration list is: \", list(iteration_list))\n",
        "\n",
        "# the iteration list can be traversed using the index, value approach\n",
        "for index, value in iteration_list:\n",
        "    print(\"The value at index \", index, \" is \", value)"
      ]
    }
  ],
  "metadata": {
    "colab": {
      "provenance": []
    },
    "kernelspec": {
      "display_name": "Python 3",
      "name": "python3"
    },
    "language_info": {
      "codemirror_mode": {
        "name": "ipython",
        "version": 3
      },
      "file_extension": ".py",
      "mimetype": "text/x-python",
      "name": "python",
      "nbconvert_exporter": "python",
      "pygments_lexer": "ipython3",
      "version": "3.11.5"
    }
  },
  "nbformat": 4,
  "nbformat_minor": 0
}
