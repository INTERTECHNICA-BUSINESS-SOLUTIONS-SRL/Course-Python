{
  "cells": [
    {
      "cell_type": "markdown",
      "metadata": {
        "id": "HoOwWSVgv-IC"
      },
      "source": [
        "# List comprehensions\n",
        "\n",
        "List comprehensions are powerful Python mechanisms that ensure a great level of expressivity by using a simple syntax.\n",
        "They act over any iterable Python elements and are used as a convenient way to generate more data."
      ]
    },
    {
      "cell_type": "code",
      "execution_count": 1,
      "metadata": {},
      "outputs": [
        {
          "name": "stdout",
          "output_type": "stream",
          "text": [
            "The generated list comprehension is [0, 1, 2, 3, 4, 5, 6, 7, 8, 9]\n",
            "The generated squares list comprehension is [0, 1, 4, 9, 16, 25, 36, 49, 64, 81]\n",
            "The generated lambdas list comprehension is [<function <listcomp>.<lambda> at 0x000001E21C4B2340>, <function <listcomp>.<lambda> at 0x000001E21C4B1E40>, <function <listcomp>.<lambda> at 0x000001E21C4B1EE0>, <function <listcomp>.<lambda> at 0x000001E21C4B1F80>, <function <listcomp>.<lambda> at 0x000001E21C621F80>, <function <listcomp>.<lambda> at 0x000001E21C6220C0>, <function <listcomp>.<lambda> at 0x000001E21C622160>, <function <listcomp>.<lambda> at 0x000001E21C622200>, <function <listcomp>.<lambda> at 0x000001E21C6222A0>, <function <listcomp>.<lambda> at 0x000001E21C622340>]\n",
            "The generated result for value 2 and index 9 is 512.\n"
          ]
        }
      ],
      "source": [
        "# in a simple way list comprehension are represented by an expression\n",
        "# which is evaluated over the elements of an iterable\n",
        "# the entire list comprehension must be included within square brackets\n",
        "\n",
        "# a simple list comprehension for generating a list elements based on a range\n",
        "list_comprehension = [x for x in range(0,10)]\n",
        "print(\"The generated list comprehension is {0}\".format(list_comprehension))\n",
        "\n",
        " # it is possible to use expressions as well\n",
        "squares_list_comprehension = [x**2 for x in range(0,10)]\n",
        "print(\"The generated squares list comprehension is {0}\".format(squares_list_comprehension))\n",
        "\n",
        "# it is possible to generate a family of functions by combining lambda and list comprehension \n",
        "lambda_list_comprehension = [lambda x: x ** n for n in range(0,10)]\n",
        "print(\"The generated lambdas list comprehension is {0}\".format(lambda_list_comprehension))\n",
        "\n",
        "# a lambda function from the generated list can be invoked as well\n",
        "index = 9\n",
        "value = 2\n",
        "print(\"The generated result for value {0} and index {1} is {2}.\".format(value, index, lambda_list_comprehension[index](value)))"
      ]
    },
    {
      "cell_type": "code",
      "execution_count": 8,
      "metadata": {},
      "outputs": [
        {
          "name": "stdout",
          "output_type": "stream",
          "text": [
            "The generated list of even numbers is [0, 2, 4, 6, 8].\n"
          ]
        }
      ],
      "source": [
        "# list comprehension allows conditional generation of an element\n",
        "# conditional processing in comprehensions allows collection filtering\n",
        "even_numbers = [x for x in range(0,10) if x % 2 == 0]\n",
        "print(\"The generated list of even numbers is {0}.\".format(even_numbers))"
      ]
    },
    {
      "cell_type": "code",
      "execution_count": 6,
      "metadata": {},
      "outputs": [
        {
          "name": "stdout",
          "output_type": "stream",
          "text": [
            "The outcome of a nested list comprehension is [[0, 0, 0, 0, 0, 0, 0, 0, 0, 0], [0, 1, 2, 3, 4, 5, 6, 7, 8, 9], [0, 2, 4, 6, 8, 10, 12, 14, 16, 18], [0, 3, 6, 9, 12, 15, 18, 21, 24, 27], [0, 4, 8, 12, 16, 20, 24, 28, 32, 36], [0, 5, 10, 15, 20, 25, 30, 35, 40, 45], [0, 6, 12, 18, 24, 30, 36, 42, 48, 54], [0, 7, 14, 21, 28, 35, 42, 49, 56, 63], [0, 8, 16, 24, 32, 40, 48, 56, 64, 72], [0, 9, 18, 27, 36, 45, 54, 63, 72, 81]].\n"
          ]
        }
      ],
      "source": [
        "# list comprehensions can be nested as well\n",
        "nested_list_comprehension = [[i*j for i in range(0, 10)] for j in range(0,10)]\n",
        "\n",
        "print(\"The outcome of a nested list comprehension is {0}.\".format(nested_list_comprehension))"
      ]
    }
  ],
  "metadata": {
    "colab": {
      "provenance": []
    },
    "kernelspec": {
      "display_name": "Python 3",
      "name": "python3"
    },
    "language_info": {
      "codemirror_mode": {
        "name": "ipython",
        "version": 3
      },
      "file_extension": ".py",
      "mimetype": "text/x-python",
      "name": "python",
      "nbconvert_exporter": "python",
      "pygments_lexer": "ipython3",
      "version": "3.11.5"
    }
  },
  "nbformat": 4,
  "nbformat_minor": 0
}
