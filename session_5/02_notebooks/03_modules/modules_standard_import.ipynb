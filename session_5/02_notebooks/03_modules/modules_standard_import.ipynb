{
  "cells": [
    {
      "cell_type": "markdown",
      "metadata": {
        "id": "HoOwWSVgv-IC"
      },
      "source": [
        "# Importing modules\n",
        "\n",
        "Once modules have been defined they need to be imported for further usage.\n",
        "Importing a module (either in part or in integrality) can be done via the **import** statement."
      ]
    },
    {
      "cell_type": "markdown",
      "metadata": {
        "id": "gB_wJkrmwlDZ"
      },
      "source": [
        "## Importing a module in integrality and exploring its content\n",
        "Importing a module in integrality via the import \\< *modulename* \\> statement.\n",
        "The content of the module can be accessed via the **dir** method and its documentation accessed via the **\\_\\_doc__** property."
      ]
    },
    {
      "cell_type": "code",
      "execution_count": 1,
      "metadata": {
        "colab": {
          "base_uri": "https://localhost:8080/"
        },
        "id": "vk_XRXQNw7OU",
        "outputId": "8def992c-4f61-4d7a-8eee-307f1fc87e14"
      },
      "outputs": [
        {
          "name": "stdout",
          "output_type": "stream",
          "text": [
            "\n",
            "The module's name is minmax \n",
            "----------------------------------------------------------------------------------------------------\n",
            "The module's doc string is: \n",
            "\n",
            " This module allows calculation of minimum and maximum values \n",
            "from a collection of values.\n",
            "\n",
            "It exports the min_value function for calculation of minimum values and \n",
            "max_value function for calculation of the maximum value.\n",
            " \n",
            "----------------------------------------------------------------------------------------------------\n",
            "The module's content is: \n",
            "\n",
            " ['_RELEASE_DATE', '_SUBVERSION', '_VERSION', '__builtins__', '__cached__', '__doc__', '__file__', '__loader__', '__name__', '__package__', '__spec__', 'max_value', 'min_value'] \n",
            "----------------------------------------------------------------------------------------------------"
          ]
        }
      ],
      "source": [
        "# import the module under a custom, shortened name\n",
        "import minmax as mnmx\n",
        "\n",
        "# display the module's content\n",
        "print(\"\\nThe module's name is {0} \\n\".format(mnmx.__name__), end=\"-\"*100)\n",
        "print(\"\\nThe module's doc string is: \\n\\n {0} \\n\".format(mnmx.__doc__), end=\"-\"*100)\n",
        "print(\"\\nThe module's content is: \\n\\n {0} \\n\".format(dir(mnmx)), end=\"-\"*100)"
      ]
    },
    {
      "cell_type": "code",
      "execution_count": 2,
      "metadata": {},
      "outputs": [
        {
          "name": "stdout",
          "output_type": "stream",
          "text": [
            "Help on module minmax:\n",
            "\n",
            "NAME\n",
            "    minmax\n",
            "\n",
            "DESCRIPTION\n",
            "    This module allows calculation of minimum and maximum values \n",
            "    from a collection of values.\n",
            "    \n",
            "    It exports the min_value function for calculation of minimum values and \n",
            "    max_value function for calculation of the maximum value.\n",
            "\n",
            "FUNCTIONS\n",
            "    max_value(*args)\n",
            "        Retrieves the maximal value from the parameters passed to the function\n",
            "    \n",
            "    min_value(*args)\n",
            "        Retrieves the minimal value from the parameters passed to the function\n",
            "\n",
            "FILE\n",
            "    d:\\projects\\courses\\utcn_python_course\\python-course-utcn\\session_5\\02_notebooks\\03_modules\\minmax.py\n",
            "\n",
            "\n"
          ]
        }
      ],
      "source": [
        "# it is possible to use the help function\n",
        "# to assemble the help documentation for a module\n",
        "help(mnmx)"
      ]
    },
    {
      "cell_type": "markdown",
      "metadata": {
        "id": "hXvHz2H8VmEI"
      },
      "source": [
        "## Using the module's exported functionality\n",
        "\n",
        "The exported functionality can be used by qualifying the exported element's name with the name of the module used at import (dot notation)."
      ]
    },
    {
      "cell_type": "code",
      "execution_count": 3,
      "metadata": {
        "colab": {
          "base_uri": "https://localhost:8080/"
        },
        "id": "pmxplEeAYkfx",
        "outputId": "b0e3f825-bac4-498f-90df-a15604eee884"
      },
      "outputs": [
        {
          "name": "stdout",
          "output_type": "stream",
          "text": [
            "Minimal value is: 0\n",
            "Maximal value is: 9\n"
          ]
        }
      ],
      "source": [
        "# use the module's exported functionality\n",
        "print(\"Minimal value is: {0:d}\".format(mnmx.min_value(0, 1, 2, 3, 4, 5, 6, 7, 8, 9)))\n",
        "print(\"Maximal value is: {0:d}\".format(mnmx.max_value(0, 1, 2, 3, 4, 5, 6, 7, 8, 9)))"
      ]
    }
  ],
  "metadata": {
    "colab": {
      "provenance": []
    },
    "kernelspec": {
      "display_name": "Python 3",
      "name": "python3"
    },
    "language_info": {
      "codemirror_mode": {
        "name": "ipython",
        "version": 3
      },
      "file_extension": ".py",
      "mimetype": "text/x-python",
      "name": "python",
      "nbconvert_exporter": "python",
      "pygments_lexer": "ipython3",
      "version": "3.11.5"
    }
  },
  "nbformat": 4,
  "nbformat_minor": 0
}
