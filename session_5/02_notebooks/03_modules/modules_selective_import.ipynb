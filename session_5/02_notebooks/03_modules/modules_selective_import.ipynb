{
  "cells": [
    {
      "cell_type": "code",
      "execution_count": 1,
      "metadata": {},
      "outputs": [],
      "source": [
        "# notebook initialization code \n",
        "# can be safely ignored\n",
        "# downloads the python module for notebook access\n",
        "from pathlib import Path\n",
        "URL = \"https://raw.githubusercontent.com/INTERTECHNICA-BUSINESS-SOLUTIONS-SRL/Python-Course-UTCN/main/session_5/02_notebooks/03_modules/minmax.py\"\n",
        "if not Path(\"./minmax.py\").is_file() :\n",
        "    %pip install wget\n",
        "    import wget\n",
        "    wget.download(URL, out = \"./minmax.py\")"
      ]
    },
    {
      "cell_type": "markdown",
      "metadata": {
        "id": "HoOwWSVgv-IC"
      },
      "source": [
        "# Selectively importing from a module\n",
        "\n",
        "Python allows a selective import from a module, in other terms to import strictly the entities that need to be used and not all the entieies from the module.\n",
        "\n",
        "This is done via the **from import** statement."
      ]
    },
    {
      "cell_type": "code",
      "execution_count": 3,
      "metadata": {
        "colab": {
          "base_uri": "https://localhost:8080/"
        },
        "id": "vk_XRXQNw7OU",
        "outputId": "559564dd-4673-457e-8372-51b1e51f0244"
      },
      "outputs": [
        {
          "name": "stdout",
          "output_type": "stream",
          "text": [
            "Minimal value is: 0\n",
            "Maximal value is: 9\n"
          ]
        }
      ],
      "source": [
        "# import selectively only the functions that are needed\n",
        "from minmax import max_value, min_value\n",
        "\n",
        "# the module's selectively imported functionality is available in the global namespace\n",
        "data = [0, 1, 2, 3, 4, 5, 6, 7, 8, 9]\n",
        "print(\"Minimal value is: {0:d}\".format(min_value(0, 1, 2, 3, 4, 5, 6, 7, 8, 9)))\n",
        "print(\"Maximal value is: {0:d}\".format(max_value(0, 1, 2, 3, 4, 5, 6, 7, 8, 9)))"
      ]
    }
  ],
  "metadata": {
    "colab": {
      "provenance": []
    },
    "kernelspec": {
      "display_name": "Python 3",
      "name": "python3"
    },
    "language_info": {
      "codemirror_mode": {
        "name": "ipython",
        "version": 3
      },
      "file_extension": ".py",
      "mimetype": "text/x-python",
      "name": "python",
      "nbconvert_exporter": "python",
      "pygments_lexer": "ipython3",
      "version": "3.11.5"
    }
  },
  "nbformat": 4,
  "nbformat_minor": 0
}
