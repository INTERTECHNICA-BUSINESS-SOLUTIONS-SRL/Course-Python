{
  "cells": [
    {
      "cell_type": "markdown",
      "metadata": {
        "id": "HoOwWSVgv-IC"
      },
      "source": [
        "# Importing functionality from packages\n",
        "\n",
        "A structure of packages can be constructed by creating a structure of directories and placing modules in these directories.\n",
        "The functionality from these packages can be imported and used in the same manner it is used from modules."
      ]
    },
    {
      "cell_type": "code",
      "execution_count": 6,
      "metadata": {
        "colab": {
          "base_uri": "https://localhost:8080/"
        },
        "id": "vk_XRXQNw7OU",
        "outputId": "559564dd-4673-457e-8372-51b1e51f0244"
      },
      "outputs": [
        {
          "name": "stdout",
          "output_type": "stream",
          "text": [
            "Minimal value is: 0\n",
            "Maximal value is: 9\n",
            "Average value is: 4.50\n",
            "Mode value is: 1\n",
            "Median value is: 3\n"
          ]
        }
      ],
      "source": [
        "# import selectively only the functions that are needed\n",
        "import stats.basic as basic_stats\n",
        "import stats.standard as standard_stats\n",
        "\n",
        "# the module's selectively imported functionality is available in the global namespace\n",
        "print(\"Minimal value is: {0:d}\".format(basic_stats.min_value(0, 1, 2, 3, 4, 5, 6, 7, 8, 9)))\n",
        "print(\"Maximal value is: {0:d}\".format(basic_stats.max_value(0, 1, 2, 3, 4, 5, 6, 7, 8, 9)))\n",
        "print(\"Average value is: {0:.2f}\".format(basic_stats.average_value(0, 1, 2, 3, 4, 5, 6, 7, 8, 9)))\n",
        "print(\"Mode value is: {0:d}\".format(standard_stats.mode_value(0, 1, 1, 1, 2, 3, 3)))\n",
        "print(\"Median value is: {0:d}\".format(standard_stats.median_value(0,1,2,3,4,100, 2000)))\n"
      ]
    }
  ],
  "metadata": {
    "colab": {
      "provenance": []
    },
    "kernelspec": {
      "display_name": "Python 3",
      "name": "python3"
    },
    "language_info": {
      "codemirror_mode": {
        "name": "ipython",
        "version": 3
      },
      "file_extension": ".py",
      "mimetype": "text/x-python",
      "name": "python",
      "nbconvert_exporter": "python",
      "pygments_lexer": "ipython3",
      "version": "3.11.5"
    }
  },
  "nbformat": 4,
  "nbformat_minor": 0
}
