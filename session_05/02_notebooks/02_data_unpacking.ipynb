{
  "cells": [
    {
      "cell_type": "markdown",
      "metadata": {
        "id": "HoOwWSVgv-IC"
      },
      "source": [
        "# Data unpacking\n",
        "\n",
        "Python allows an easier mechanism to unpack data from different collections into variables. \n",
        "This makes data extraction a very easy and convenient process.  "
      ]
    },
    {
      "cell_type": "code",
      "execution_count": 6,
      "metadata": {},
      "outputs": [
        {
          "name": "stdout",
          "output_type": "stream",
          "text": [
            "The unpacked value from the dictionary {'key_1': 'value_1', 'key_2': 'value_2', 'key_3': 'value_3'} are key_1, key_2, key_3\n"
          ]
        }
      ],
      "source": [
        "# it is possible to unpack data from a standard collections into variables\n",
        "list_val_1, list_val_2, list_val_3 = [1, 2, 3]\n",
        "tuple_val_1, tuple_val_2, tuple_val_3 = (1, 2, 3)\n",
        "set_val_1, set_val_2, set_val_3 = {1, 2, 3}\n",
        "\n",
        "# it is possible to unpack values from dictionaries\n",
        "# however the unpacked values will be the key values \n",
        "dictionary = {\"key_1\": \"value_1\", \"key_2\": \"value_2\", \"key_3\": \"value_3\"}\n",
        "dict_key_1, dict_key_2, dict_key_3 = dictionary\n",
        "\n",
        "print(\"The unpacked value from the dictionary {0} are {1}, {2}, {3}\".format(dictionary, dict_key_1, dict_key_2, dict_key_3))"
      ]
    },
    {
      "cell_type": "markdown",
      "metadata": {},
      "source": [
        "## The \\* operator\n",
        "The Python \\* operator is used to unpack list values that were not assigned explicitly during the unpacking assignment."
      ]
    },
    {
      "cell_type": "code",
      "execution_count": 7,
      "metadata": {},
      "outputs": [
        {
          "name": "stdout",
          "output_type": "stream",
          "text": [
            "The remained list values are assigned using packing operator: [2, 3, 4, 5, 6, 7, 8, 9]\n"
          ]
        }
      ],
      "source": [
        "# the list values which are not assigned implicitly \n",
        "# will be assigned to the variable used with packing operator\n",
        "list_val_1, list_val_2, *other_list_values = list(range(0,10))\n",
        "\n",
        "print(\"The remained list values are assigned using packing operator: {0}\".format(other_list_values))"
      ]
    },
    {
      "cell_type": "code",
      "execution_count": 8,
      "metadata": {},
      "outputs": [
        {
          "name": "stdout",
          "output_type": "stream",
          "text": [
            "The received positional arguments are (1, 2, 3)\n",
            "The received positional arguments are (1, 2, 3, 4, 5)\n",
            "The received positional arguments are ()\n"
          ]
        }
      ],
      "source": [
        "# another use of the * operator is to allow a function \n",
        "# to have a variable number of positional parameters\n",
        "# the parameters will be available as a tuple\n",
        "def variable_positional_parameters_function(*args):\n",
        "  print(\"The received positional arguments are {0}\".format(args)) \n",
        "    \n",
        "# call the function with a different number of parameters    \n",
        "variable_positional_parameters_function(1, 2, 3)\n",
        "variable_positional_parameters_function(1, 2, 3, 4, 5)\n",
        "variable_positional_parameters_function()"
      ]
    },
    {
      "cell_type": "markdown",
      "metadata": {},
      "source": [
        "## The \\*\\* operator\n",
        "The Python \\*\\* operator is used to unpack dictionary values in context of keyword arguments."
      ]
    },
    {
      "cell_type": "code",
      "execution_count": 9,
      "metadata": {},
      "outputs": [
        {
          "name": "stdout",
          "output_type": "stream",
          "text": [
            "The received keyword arguments are {'val_1': 1, 'val_2': 2, 'val_3': 3}\n",
            "The received keyword arguments are {'arg_1': 1, 'arg_2': 2, 'arg_3': 3, 'arg_4': 4, 'arg_5': 5}\n",
            "The received keyword arguments are {}\n"
          ]
        }
      ],
      "source": [
        "# another use of the ** operator is to allow a function \n",
        "# to have a variable number of keyword parameters\n",
        "# the parameters will be available as a dictionary\n",
        "def variable_keyword_parameters_function(**kwargs):\n",
        "  print(\"The received keyword arguments are {0}\".format(kwargs)) \n",
        "    \n",
        "# call the function with a different number of parameters    \n",
        "variable_keyword_parameters_function(val_1 = 1, val_2 = 2, val_3 = 3)\n",
        "variable_keyword_parameters_function(arg_1 = 1, arg_2 = 2, arg_3 = 3, arg_4 = 4, arg_5 = 5)\n",
        "variable_keyword_parameters_function()"
      ]
    },
    {
      "cell_type": "code",
      "execution_count": 12,
      "metadata": {},
      "outputs": [
        {
          "name": "stdout",
          "output_type": "stream",
          "text": [
            "The received positional arguments are (1, 2)\n",
            "The received keyword arguments are {'parameter_1': 4, 'parameter_2': 5, 'parameter_3': 6}\n"
          ]
        }
      ],
      "source": [
        "# it is possible to combine both positional and keyword arguments\n",
        "def variable_parameters_functions(*args, **kwargs):\n",
        "  print(\"The received positional arguments are {0}\".format(args))\n",
        "  print(\"The received keyword arguments are {0}\".format(kwargs))\n",
        "  \n",
        "# call the function with a different number of parameters  \n",
        "variable_parameters_functions(1, 2, parameter_1 = 4, parameter_2 = 5, parameter_3 = 6)"
      ]
    }
  ],
  "metadata": {
    "colab": {
      "provenance": []
    },
    "kernelspec": {
      "display_name": "Python 3",
      "name": "python3"
    },
    "language_info": {
      "codemirror_mode": {
        "name": "ipython",
        "version": 3
      },
      "file_extension": ".py",
      "mimetype": "text/x-python",
      "name": "python",
      "nbconvert_exporter": "python",
      "pygments_lexer": "ipython3",
      "version": "3.11.5"
    }
  },
  "nbformat": 4,
  "nbformat_minor": 0
}
