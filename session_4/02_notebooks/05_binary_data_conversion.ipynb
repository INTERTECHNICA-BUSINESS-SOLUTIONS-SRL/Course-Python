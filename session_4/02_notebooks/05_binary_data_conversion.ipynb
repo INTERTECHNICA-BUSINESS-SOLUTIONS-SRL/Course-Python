{
  "cells": [
    {
      "cell_type": "markdown",
      "metadata": {
        "id": "HoOwWSVgv-IC"
      },
      "source": [
        "# Binary data conversion\n",
        "\n",
        "Binary data conversion allows conversion of typed data to and from a binary neutral format."
      ]
    },
    {
      "cell_type": "markdown",
      "metadata": {},
      "source": [
        "## Converting data to binary format\n",
        "Python is able to convert typed data into a standard non-typed byte array format through various methods."
      ]
    },
    {
      "cell_type": "code",
      "execution_count": 1,
      "metadata": {},
      "outputs": [
        {
          "name": "stdout",
          "output_type": "stream",
          "text": [
            "The encoded form of A text input for encoding is bytearray(b'A text input for encoding') .\n",
            "The decoded form of bytearray(b'A text input for encoding') is A text input for encoding .\n"
          ]
        }
      ],
      "source": [
        "# the bytearray function ensures the conversion fo string data to \n",
        "# byte array format using a specified encoding\n",
        "string_to_encode = \"A text input for encoding\"\n",
        "encoding_bytes = bytearray(string_to_encode, encoding=\"utf-8\")\n",
        "\n",
        "print(\"The encoded form of {0} is {1} .\".format(string_to_encode, encoding_bytes))\n",
        "\n",
        "# the byte arrays can be decoded using the decode method\n",
        "decoded_string = encoding_bytes.decode(\"utf-8\")\n",
        "print(\"The decoded form of {0} is {1} .\".format(encoding_bytes, decoded_string))"
      ]
    },
    {
      "cell_type": "markdown",
      "metadata": {},
      "source": [
        "The other data types are usually transformed in binary format using the pack and unpack functions of the struct module. These functions ensure the transformation of typed data (such as float, int or boolean) to binary format and back. "
      ]
    },
    {
      "cell_type": "code",
      "execution_count": 2,
      "metadata": {},
      "outputs": [
        {
          "name": "stdout",
          "output_type": "stream",
          "text": [
            "Current packed data True using packing format string ? is b'\\x01'\n",
            "Current packed data -12 using packing format string h is b'\\xf4\\xff'\n",
            "Current packed data 90000 using packing format string l is b'\\x90_\\x01\\x00'\n",
            "Current packed data 256 using packing format string i is b'\\x00\\x01\\x00\\x00'\n",
            "Current packed data -30.1573 using packing format string f is b\"'B\\xf1\\xc1\"\n",
            "Current packed data 20102020 using packing format string q is b'\\x84\\xbb2\\x01\\x00\\x00\\x00\\x00'\n"
          ]
        }
      ],
      "source": [
        "# importing the necessary module\n",
        "import struct\n",
        "\n",
        "# the pack method ensures packing of data in binary format using\n",
        "# a format string.\n",
        "# the most important data flags in format string are: \n",
        "\n",
        "# ?: boolean\n",
        "# h: short\n",
        "# l: long\n",
        "# i: int\n",
        "# f: float\n",
        "# q: long long int\n",
        "\n",
        "\n",
        "pack_data = [True, -12, 90000, 256, -30.1573, 20102020]\n",
        "pack_flags = [\"?\", \"h\", \"l\", \"i\", \"f\", \"q\"]\n",
        "\n",
        "pack_information = zip(pack_data, pack_flags)\n",
        "\n",
        "for current_pack_data, current_pack_flags in pack_information:\n",
        "    pack_byte_array = struct.pack(current_pack_flags, current_pack_data)\n",
        "    print(\"Current packed data {0} using packing format string {1} is {2}\".format(current_pack_data, current_pack_flags, pack_byte_array))"
      ]
    },
    {
      "cell_type": "code",
      "execution_count": 3,
      "metadata": {},
      "outputs": [
        {
          "name": "stdout",
          "output_type": "stream",
          "text": [
            "The packed format for 0, 1, 2, 3 is b'\\x00\\x00\\x01\\x00\\x02\\x00\\x03\\x00' .\n",
            "The packed format for 0, True, -2500, 1.23675 is b'\\x00\\x00\\x01\\x00<\\xf6\\xff\\xff\\xd3M\\x9e?' .\n"
          ]
        }
      ],
      "source": [
        "# it is possible to specify multiple values of the same type when packing information\n",
        "packed_integer_data = struct.pack(\"4h\", 0, 1, 2 ,3)\n",
        "print(\"The packed format for {0}, {1}, {2}, {3} is {4} .\".format(0, 1, 2 ,3, packed_integer_data))\n",
        "\n",
        "# alternatively the data can be specified data type by data type\n",
        "packed_heterogenous_data = struct.pack(\"h ? l f\", 0, True, -2500, 1.23675)\n",
        "print(\"The packed format for {0}, {1}, {2}, {3} is {4} .\".format(0, True, -2500, 1.23675, packed_heterogenous_data))"
      ]
    },
    {
      "cell_type": "code",
      "execution_count": 4,
      "metadata": {},
      "outputs": [
        {
          "name": "stdout",
          "output_type": "stream",
          "text": [
            "The packed format for A text input for packing is b'A text input for packing' .\n"
          ]
        }
      ],
      "source": [
        "# packing strings would require passing on the length of the string to the format string\n",
        "# and encoding the string using bytearray previous to packing\n",
        "string_to_pack = \"A text input for packing\"\n",
        "format_string = \"{0}s\".format(len(string_to_pack))\n",
        "packed_string = struct.pack(format_string, bytearray(string_to_pack, encoding=\"utf-8\"))\n",
        "print(\"The packed format for {0} is {1} .\".format(string_to_pack, packed_string))"
      ]
    },
    {
      "cell_type": "markdown",
      "metadata": {},
      "source": [
        "The struct module allows calculating the size of the packed data using the calcsize function."
      ]
    },
    {
      "cell_type": "code",
      "execution_count": 5,
      "metadata": {},
      "outputs": [
        {
          "name": "stdout",
          "output_type": "stream",
          "text": [
            "The calculated data size for 20s 20s q ? is 49 .\n"
          ]
        }
      ],
      "source": [
        "# let's calculate the byte size of packed data using the calcsize function\n",
        "pack_format_string= \"20s 20s q ?\"  \n",
        "print(\"The calculated data size for {0} is {1} .\".format(pack_format_string, struct.calcsize(pack_format_string)))"
      ]
    },
    {
      "cell_type": "code",
      "execution_count": 6,
      "metadata": {},
      "outputs": [
        {
          "name": "stdout",
          "output_type": "stream",
          "text": [
            "The packed instance data for the product \n",
            "{'name': 'Personal Laptop', 'sku': 'PX23332223', 'cost_EUR': 1000.5, 'is_available': False} \n",
            "is \n",
            "b'9\\x00\\x00\\x00\\x00\\x00\\x00\\x00\\x0f\\x00\\x00\\x00\\x00\\x00\\x00\\x00\\n\\x00\\x00\\x00\\x00\\x00\\x00\\x00Personal LaptopPX23332223\\x00\\x00\\x00\\x00 zD\\x00'\n"
          ]
        }
      ],
      "source": [
        "# the elements above allows us to pack complex data\n",
        "product_instance = {\n",
        "    \"name\": \"Personal Laptop\",\n",
        "    \"sku\": \"PX23332223\",\n",
        "    \"cost_EUR\": 1000.50,\n",
        "    \"is_available\": False\n",
        "}\n",
        "\n",
        "\n",
        "def pack_product_data(product):\n",
        "    # calculate packing parameters\n",
        "    len_name = len(product[\"name\"])\n",
        "    len_sku = len(product[\"sku\"])\n",
        "    format_string = \"q q q {0}s {1}s f ?\".format(len_name, len_sku)\n",
        "    length_data = struct.calcsize(format_string)\n",
        "\n",
        "    # pack data using the calculated format string\n",
        "    packed_data = struct.pack(\n",
        "        format_string,\n",
        "        # product header data containing various data lengths\n",
        "        length_data,\n",
        "        len_name,\n",
        "        len_sku,\n",
        "        # product effective data\n",
        "        bytearray(product[\"name\"], encoding=\"utf-8\"),\n",
        "        bytearray(product[\"sku\"], encoding=\"utf-8\"),\n",
        "        product[\"cost_EUR\"],\n",
        "        product[\"is_available\"]\n",
        "    )\n",
        "\n",
        "    return packed_data\n",
        "\n",
        "\n",
        "product_instance_packed_data = pack_product_data(product_instance)\n",
        "\n",
        "print(\"The packed instance data for the product \\n{0} \\nis \\n{1}\".format(product_instance, product_instance_packed_data))"
      ]
    },
    {
      "cell_type": "code",
      "execution_count": 7,
      "metadata": {},
      "outputs": [
        {
          "name": "stdout",
          "output_type": "stream",
          "text": [
            "The packed instances data for the products \n",
            "[{'name': 'Personal Laptop', 'sku': 'PX23332223', 'cost_EUR': 1000.5, 'is_available': False}, {'name': 'Traveling Bag', 'sku': 'TBW33311209', 'cost_EUR': 20, 'is_available': True}, {'name': 'Winter coat', 'sku': 'PCW98798324', 'cost_EUR': 100.75, 'is_available': True}] \n",
            "is \n",
            "bytearray(b'9\\x00\\x00\\x00\\x00\\x00\\x00\\x00\\x0f\\x00\\x00\\x00\\x00\\x00\\x00\\x00\\n\\x00\\x00\\x00\\x00\\x00\\x00\\x00Personal LaptopPX23332223\\x00\\x00\\x00\\x00 zD\\x005\\x00\\x00\\x00\\x00\\x00\\x00\\x00\\r\\x00\\x00\\x00\\x00\\x00\\x00\\x00\\x0b\\x00\\x00\\x00\\x00\\x00\\x00\\x00Traveling BagTBW33311209\\x00\\x00\\xa0A\\x015\\x00\\x00\\x00\\x00\\x00\\x00\\x00\\x0b\\x00\\x00\\x00\\x00\\x00\\x00\\x00\\x0b\\x00\\x00\\x00\\x00\\x00\\x00\\x00Winter coatPCW98798324\\x00\\x00\\x00\\x80\\xc9B\\x01')\n"
          ]
        }
      ],
      "source": [
        "# using complex data is possible to pack entire collections\n",
        "\n",
        "product_instances = [\n",
        "    {'name': 'Personal Laptop', 'sku': 'PX23332223', 'cost_EUR': 1000.5, 'is_available': False},\n",
        "    {'name': 'Traveling Bag', 'sku': 'TBW33311209', 'cost_EUR': 20, 'is_available': True},\n",
        "    {'name': 'Winter coat', 'sku': 'PCW98798324', 'cost_EUR': 100.75, 'is_available': True},     \n",
        "]\n",
        "\n",
        "product_instances_packed_data = bytearray()\n",
        "\n",
        "for product_instance in product_instances:\n",
        "    product_instances_packed_data = product_instances_packed_data + pack_product_data(product_instance)\n",
        "    \n",
        "print(\"The packed instances data for the products \\n{0} \\nis \\n{1}\".format(product_instances, product_instances_packed_data))"
      ]
    },
    {
      "cell_type": "markdown",
      "metadata": {},
      "source": [
        "## Converting data from binary format\n",
        "By using the same struct module, Python is able to convert the byte arrays back to typed data. "
      ]
    },
    {
      "cell_type": "code",
      "execution_count": 8,
      "metadata": {},
      "outputs": [
        {
          "name": "stdout",
          "output_type": "stream",
          "text": [
            "The unpacked instance data is:\n",
            "{'name': 'Personal Laptop', 'sku': 'PX23332223', 'cost_EUR': 1000.5, 'is_available': False} \n",
            "having a size of \n",
            "57 bytes.\n"
          ]
        }
      ],
      "source": [
        "# the unpack method allows to convert back data from binary format\n",
        "def unpack_product_data(byte_array):\n",
        "    # read the packing header\n",
        "    product_info_header_size = struct.calcsize(\"q q q\")\n",
        "    data_size, name_size, sku_size = struct.unpack(\"q q q\", byte_array[0:product_info_header_size])\n",
        "    \n",
        "    # calculate the product data parameters\n",
        "    format_string = \"{0}s {1}s f ?\".format(name_size, sku_size)\n",
        "    product_data_size = struct.calcsize(format_string)\n",
        "\n",
        "    # unpack data and create the product instance\n",
        "    product_byte_data = byte_array[product_info_header_size: product_info_header_size + product_data_size]\n",
        "    name, sku, cost_EUR, is_available = struct.unpack(format_string, product_byte_data)\n",
        "    product = {\n",
        "        \"name\": name.decode(\"UTF-8\"),\n",
        "        \"sku\": sku.decode(\"UTF-8\"),\n",
        "        \"cost_EUR\": cost_EUR,\n",
        "        \"is_available\": is_available\n",
        "    }\n",
        "    \n",
        "    return data_size, product\n",
        "\n",
        "data_size, product = unpack_product_data(product_instance_packed_data)\n",
        "\n",
        "print(\"The unpacked instance data is:\\n{0} \\nhaving a size of \\n{1} bytes.\".format(product, data_size))"
      ]
    },
    {
      "cell_type": "code",
      "execution_count": 10,
      "metadata": {},
      "outputs": [
        {
          "name": "stdout",
          "output_type": "stream",
          "text": [
            "The unpacked product instances are: \n",
            "[{'name': 'Personal Laptop', 'sku': 'PX23332223', 'cost_EUR': 1000.5, 'is_available': False}, {'name': 'Traveling Bag', 'sku': 'TBW33311209', 'cost_EUR': 20.0, 'is_available': True}, {'name': 'Winter coat', 'sku': 'PCW98798324', 'cost_EUR': 100.75, 'is_available': True}]\n"
          ]
        }
      ],
      "source": [
        "unpacked_product_instances = []\n",
        "current_index = 0\n",
        "\n",
        "while(current_index < len(product_instances_packed_data)):\n",
        "    # unpack the product data, creating product instances until \n",
        "    # the data buffer is fully explored \n",
        "    data_length, unpacked_product_instance = unpack_product_data(product_instances_packed_data[current_index:])\n",
        "    unpacked_product_instances.append(unpacked_product_instance)\n",
        "    current_index = current_index + data_length\n",
        "    \n",
        "print(\"The unpacked product instances are: \\n{0}\".format(unpacked_product_instances))"
      ]
    }
  ],
  "metadata": {
    "colab": {
      "provenance": []
    },
    "kernelspec": {
      "display_name": "Python 3",
      "name": "python3"
    },
    "language_info": {
      "codemirror_mode": {
        "name": "ipython",
        "version": 3
      },
      "file_extension": ".py",
      "mimetype": "text/x-python",
      "name": "python",
      "nbconvert_exporter": "python",
      "pygments_lexer": "ipython3",
      "version": "3.11.5"
    }
  },
  "nbformat": 4,
  "nbformat_minor": 0
}
