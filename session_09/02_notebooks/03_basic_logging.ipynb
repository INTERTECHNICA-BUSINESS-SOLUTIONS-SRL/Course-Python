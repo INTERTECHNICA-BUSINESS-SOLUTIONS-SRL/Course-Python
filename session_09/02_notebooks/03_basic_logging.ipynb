{
  "cells": [
    {
      "cell_type": "markdown",
      "metadata": {
        "id": "HoOwWSVgv-IC"
      },
      "source": [
        "# Basic logging\n",
        "\n",
        "Logging in programming is the process of recording information about the execution of a program, such as the time it was executed, the messages or actions performed and any errors or warnings that occurred. This information is typically written to a log file and can be used to debug code, troubleshoot issues and monitor the performance of the program. \n",
        "\n",
        "Logging is an essential part of software development. In Python, the logging functionality is provided via the logging module"
      ]
    },
    {
      "cell_type": "code",
      "execution_count": 1,
      "metadata": {},
      "outputs": [],
      "source": [
        "# import the logging module\n",
        "import logging"
      ]
    },
    {
      "cell_type": "markdown",
      "metadata": {},
      "source": [
        "## Formatting log messages\n",
        "Loge messages are formatted through log formatters which are the essential mechanism for formatting the messages logged by the loggers. \n",
        "The formatters have different format strings for handling the format of logged messages. \n",
        "\n",
        "The components of logging format string can be:\n",
        "\n",
        "* %(asctime)s - Human-readable time when the LogRecord was created;\n",
        "* %(levelname)s - Text logging level for the message ('DEBUG', 'INFO', 'WARNING', 'ERROR', 'CRITICAL');\n",
        "* %(module)s - Module (name portion of filename);\n",
        "* %(pathname)s - Full pathname of the source file where the logging call was issued (if available);\n",
        "* %(lineno)d - Source line number where the logging call was issued (if available);\n",
        "* %(message)s - The log message."
      ]
    },
    {
      "cell_type": "code",
      "execution_count": 2,
      "metadata": {},
      "outputs": [],
      "source": [
        "logging.basicConfig(\n",
        "    format = \"%(asctime)s | %(levelname)s | file: %(pathname)s | line: %(lineno)d | %(message)s\",\n",
        "    level = logging.DEBUG\n",
        ")"
      ]
    },
    {
      "cell_type": "markdown",
      "metadata": {
        "id": "rPAOGBiEGRmx"
      },
      "source": [
        "## Basic operations\n",
        "Loggers can be acquired via a name associated to a logger and they can log various levels of information:\n",
        "\n",
        "* DEBUG - Detailed information, typically of interest only when diagnosing problems;\n",
        "* INFO - Confirmation that things are working as expected;\n",
        "* WARNING - An indication that something unexpected happened, or indicative of some problem in the near future (e.g. ‘disk space low’). The software is still working as expected;\n",
        "* ERROR - Due to a more serious problem, the software has not been able to perform some function;\n",
        "* CRITICAL - A serious error, indicating that the program itself may be unable to continue running."
      ]
    },
    {
      "cell_type": "code",
      "execution_count": 3,
      "metadata": {
        "id": "vk_XRXQNw7OU"
      },
      "outputs": [],
      "source": [
        "# loggers should not usually be instantiable\n",
        "# they are obtaining using the getLogger function and  using a name,\n",
        "# if no name is provided, root logger is acquired,\n",
        "# however the __name__ variable (module name) is usually a good choice\n",
        "logger = logging.getLogger(__name__)"
      ]
    },
    {
      "cell_type": "code",
      "execution_count": 4,
      "metadata": {},
      "outputs": [
        {
          "name": "stderr",
          "output_type": "stream",
          "text": [
            "2023-11-27 16:44:41,396 | DEBUG | file: C:\\Users\\ONE\\AppData\\Local\\Temp\\ipykernel_1976\\1531577117.py | line: 7 | Debug level information message\n",
            "2023-11-27 16:44:41,397 | INFO | file: C:\\Users\\ONE\\AppData\\Local\\Temp\\ipykernel_1976\\1531577117.py | line: 8 | Info level information message\n",
            "2023-11-27 16:44:41,399 | WARNING | file: C:\\Users\\ONE\\AppData\\Local\\Temp\\ipykernel_1976\\1531577117.py | line: 9 | Warning level information message\n",
            "2023-11-27 16:44:41,400 | ERROR | file: C:\\Users\\ONE\\AppData\\Local\\Temp\\ipykernel_1976\\1531577117.py | line: 10 | Error level information message\n",
            "2023-11-27 16:44:41,401 | CRITICAL | file: C:\\Users\\ONE\\AppData\\Local\\Temp\\ipykernel_1976\\1531577117.py | line: 11 | Critical level information message\n"
          ]
        }
      ],
      "source": [
        "# enabling debug logging level and upward\n",
        "# the set level method sets the minimum logging level\n",
        "# for logging information\n",
        "logger.setLevel(logging.DEBUG)\n",
        "\n",
        "# logging various levels of information\n",
        "logger.debug(\"Debug level information message\")\n",
        "logger.info(\"Info level information message\")\n",
        "logger.warning(\"Warning level information message\")\n",
        "logger.error(\"Error level information message\")\n",
        "logger.critical(\"Critical level information message\")"
      ]
    },
    {
      "cell_type": "code",
      "execution_count": 5,
      "metadata": {},
      "outputs": [
        {
          "name": "stderr",
          "output_type": "stream",
          "text": [
            "2023-11-27 16:44:41,411 | ERROR | file: C:\\Users\\ONE\\AppData\\Local\\Temp\\ipykernel_1976\\2987010651.py | line: 6 | No value is to be handled here.\n",
            "Traceback (most recent call last):\n",
            "  File \"C:\\Users\\ONE\\AppData\\Local\\Temp\\ipykernel_1976\\2987010651.py\", line 4, in <module>\n",
            "    raise ValueError(\"No value is to be handled here.\")\n",
            "ValueError: No value is to be handled here.\n"
          ]
        }
      ],
      "source": [
        "# the logging module offers the capability to log exceptions via\n",
        "# the exception method of a logger\n",
        "try: \n",
        "    raise ValueError(\"No value is to be handled here.\")\n",
        "except ValueError as e: \n",
        "    logger.exception(e)"
      ]
    }
  ],
  "metadata": {
    "colab": {
      "provenance": []
    },
    "kernelspec": {
      "display_name": "Python 3",
      "name": "python3"
    },
    "language_info": {
      "codemirror_mode": {
        "name": "ipython",
        "version": 3
      },
      "file_extension": ".py",
      "mimetype": "text/x-python",
      "name": "python",
      "nbconvert_exporter": "python",
      "pygments_lexer": "ipython3",
      "version": "3.11.5"
    }
  },
  "nbformat": 4,
  "nbformat_minor": 0
}
