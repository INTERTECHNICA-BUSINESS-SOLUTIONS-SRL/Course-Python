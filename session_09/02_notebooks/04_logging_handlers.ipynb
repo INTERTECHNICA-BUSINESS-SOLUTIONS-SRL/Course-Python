{
  "cells": [
    {
      "cell_type": "markdown",
      "metadata": {},
      "source": [
        "# Using logging handlers\n",
        "The logging module supports custom handlers for logging messages to various data streams (standard outputs, files, etc). \n",
        "These handlers can be added to the logger instances.\n",
        "\n",
        "The logging handlers support their own log levels and messaging formats."
      ]
    },
    {
      "cell_type": "code",
      "execution_count": 1,
      "metadata": {},
      "outputs": [],
      "source": [
        "# import the logging module\n",
        "import logging\n",
        "logger = logging.getLogger(__name__)\n",
        "\n",
        "# let's remove the existing logging handlers\n",
        "logger.handlers.clear()\n",
        "\n",
        "# prevent propagation to other levels\n",
        "# such as root logger\n",
        "logger.propagate = False\n",
        "\n",
        "# the logger will log all messages\n",
        "logger.setLevel(logging.DEBUG)"
      ]
    },
    {
      "cell_type": "code",
      "execution_count": 2,
      "metadata": {},
      "outputs": [],
      "source": [
        "# there could be various handlers for a logger \n",
        "# allowing the logger to log messages to various streams\n",
        "# such as stderr or files \n",
        "\n",
        "# the stream handler allows data output to various data streams\n",
        "# if no data stream was passed it will use stderr\n",
        "\n",
        "stream_handler = logging.StreamHandler()\n",
        "stream_handler.setLevel(logging.ERROR) # each handler can have its own logging level\n",
        "stream_handler.setFormatter(\n",
        "    logging.Formatter(\"%(levelname)s : %(pathname)s : %(lineno)d : %(message)s\")\n",
        ")\n",
        "\n",
        "logger.addHandler(stream_handler) \n",
        "\n",
        "# file handlers allow logging got file\n",
        "\n",
        "file_handler = logging.FileHandler(filename = \"logging.log\")\n",
        "file_handler.setLevel(logging.DEBUG) # each handler can have its own logging level\n",
        "file_handler.setFormatter(\n",
        "    logging.Formatter(\"%(asctime)s | %(levelname)s | file: %(pathname)s | line: %(lineno)d | %(message)s\")\n",
        ")\n",
        "logger.addHandler(file_handler) "
      ]
    },
    {
      "cell_type": "code",
      "execution_count": 3,
      "metadata": {},
      "outputs": [
        {
          "name": "stderr",
          "output_type": "stream",
          "text": [
            "ERROR : C:\\Users\\ONE\\AppData\\Local\\Temp\\ipykernel_11292\\960361677.py : 5 : Error level information message\n",
            "CRITICAL : C:\\Users\\ONE\\AppData\\Local\\Temp\\ipykernel_11292\\960361677.py : 6 : Critical level information message\n"
          ]
        }
      ],
      "source": [
        "# logging various levels of information\n",
        "logger.debug(\"Debug level information message\")\n",
        "logger.info(\"Info level information message\")\n",
        "logger.warning(\"Warning level information message\")\n",
        "logger.error(\"Error level information message\")\n",
        "logger.critical(\"Critical level information message\")"
      ]
    }
  ],
  "metadata": {
    "colab": {
      "provenance": []
    },
    "kernelspec": {
      "display_name": "Python 3",
      "name": "python3"
    },
    "language_info": {
      "codemirror_mode": {
        "name": "ipython",
        "version": 3
      },
      "file_extension": ".py",
      "mimetype": "text/x-python",
      "name": "python",
      "nbconvert_exporter": "python",
      "pygments_lexer": "ipython3",
      "version": "3.11.5"
    }
  },
  "nbformat": 4,
  "nbformat_minor": 0
}
